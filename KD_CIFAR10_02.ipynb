{
  "nbformat": 4,
  "nbformat_minor": 0,
  "metadata": {
    "colab": {
      "name": "KD CIFAR10 02.ipynb",
      "provenance": [],
      "authorship_tag": "ABX9TyMPDW+cPluDByVojHy5DeAu",
      "include_colab_link": true
    },
    "kernelspec": {
      "name": "python3",
      "display_name": "Python 3"
    },
    "language_info": {
      "name": "python"
    }
  },
  "cells": [
    {
      "cell_type": "markdown",
      "metadata": {
        "id": "view-in-github",
        "colab_type": "text"
      },
      "source": [
        "<a href=\"https://colab.research.google.com/github/shreyash53/SMAI-Knowledge-Distilation/blob/main/KD_CIFAR10_02.ipynb\" target=\"_parent\"><img src=\"https://colab.research.google.com/assets/colab-badge.svg\" alt=\"Open In Colab\"/></a>"
      ]
    },
    {
      "cell_type": "code",
      "execution_count": 1,
      "metadata": {
        "id": "TwASE9pdep3S"
      },
      "outputs": [],
      "source": [
        "import tensorflow as tf\n",
        "from tensorflow import keras\n",
        "import numpy as np"
      ]
    },
    {
      "cell_type": "code",
      "source": [
        "# Prepare the train and test dataset.\n",
        "batch_size = 64\n",
        "(x_train, y_train), (x_test, y_test) = tf.keras.datasets.cifar10.load_data()\n",
        "# Normalize data\n",
        "x_train = x_train.astype(\"float32\") / 255.0\n",
        "x_train = np.reshape(x_train, (-1, 32, 32, 3))\n",
        "x_test = x_test.astype(\"float32\") / 255.0\n",
        "x_test = np.reshape(x_test, (-1, 32, 32,3))\n",
        "print(\"Input Train data  \",x_train.shape)\n",
        "print(\"Train data Labels \",y_train.shape)\n",
        "print(\"Input Test data   \",x_test.shape)\n",
        "print(\"Test data Labels  \",y_test.shape)"
      ],
      "metadata": {
        "colab": {
          "base_uri": "https://localhost:8080/"
        },
        "id": "D7GANx8xe19t",
        "outputId": "07cc2171-6c58-461f-cba7-e36da4d6270f"
      },
      "execution_count": 2,
      "outputs": [
        {
          "output_type": "stream",
          "name": "stdout",
          "text": [
            "Downloading data from https://www.cs.toronto.edu/~kriz/cifar-10-python.tar.gz\n",
            "170500096/170498071 [==============================] - 11s 0us/step\n",
            "170508288/170498071 [==============================] - 11s 0us/step\n",
            "Input Train data   (50000, 32, 32, 3)\n",
            "Train data Labels  (50000, 1)\n",
            "Input Test data    (10000, 32, 32, 3)\n",
            "Test data Labels   (10000, 1)\n"
          ]
        }
      ]
    },
    {
      "cell_type": "code",
      "source": [
        "teacher = tf.keras.Sequential(\n",
        "    [\n",
        "        tf.keras.Input(shape=(32, 32, 3)),\n",
        "        \n",
        "        tf.keras.layers.Conv2D(256, (3, 3), strides=(2, 2), padding=\"same\"),\n",
        "        tf.keras.layers.LeakyReLU(alpha=0.2),\n",
        "        tf.keras.layers.MaxPooling2D(pool_size=(2, 2), strides=(1, 1), padding=\"same\"),\n",
        "        tf.keras.layers.Conv2D(512, (3, 3), strides=(2, 2), padding=\"same\"),\n",
        "        tf.keras.layers.LeakyReLU(alpha=0.2),\n",
        "        tf.keras.layers.MaxPooling2D(pool_size=(2, 2), strides=(1, 1), padding=\"same\"),\n",
        "        tf.keras.layers.Flatten(),\n",
        "        tf.keras.layers.Dense(10),\n",
        "    ],\n",
        "    name=\"teacher\",\n",
        ")\n",
        "teacher.summary()"
      ],
      "metadata": {
        "colab": {
          "base_uri": "https://localhost:8080/"
        },
        "id": "CZMrR1fQe2lt",
        "outputId": "4bf6ed2a-2a08-42f8-aff3-afb633768e9d"
      },
      "execution_count": 3,
      "outputs": [
        {
          "output_type": "stream",
          "name": "stdout",
          "text": [
            "Model: \"teacher\"\n",
            "_________________________________________________________________\n",
            " Layer (type)                Output Shape              Param #   \n",
            "=================================================================\n",
            " conv2d (Conv2D)             (None, 16, 16, 256)       7168      \n",
            "                                                                 \n",
            " leaky_re_lu (LeakyReLU)     (None, 16, 16, 256)       0         \n",
            "                                                                 \n",
            " max_pooling2d (MaxPooling2D  (None, 16, 16, 256)      0         \n",
            " )                                                               \n",
            "                                                                 \n",
            " conv2d_1 (Conv2D)           (None, 8, 8, 512)         1180160   \n",
            "                                                                 \n",
            " leaky_re_lu_1 (LeakyReLU)   (None, 8, 8, 512)         0         \n",
            "                                                                 \n",
            " max_pooling2d_1 (MaxPooling  (None, 8, 8, 512)        0         \n",
            " 2D)                                                             \n",
            "                                                                 \n",
            " flatten (Flatten)           (None, 32768)             0         \n",
            "                                                                 \n",
            " dense (Dense)               (None, 10)                327690    \n",
            "                                                                 \n",
            "=================================================================\n",
            "Total params: 1,515,018\n",
            "Trainable params: 1,515,018\n",
            "Non-trainable params: 0\n",
            "_________________________________________________________________\n"
          ]
        }
      ]
    },
    {
      "cell_type": "code",
      "source": [
        "teacher.compile(\n",
        "    optimizer=tf.keras.optimizers.Adam(),\n",
        "    loss=tf.keras.losses.SparseCategoricalCrossentropy(from_logits=True),\n",
        "    metrics=[tf.keras.metrics.SparseCategoricalAccuracy()],\n",
        ")\n",
        "# Train and evaluate teacher on data.\n",
        "teacher.fit(x_train, y_train, epochs=5)\n",
        "teacher.evaluate(x_test, y_test)"
      ],
      "metadata": {
        "colab": {
          "base_uri": "https://localhost:8080/"
        },
        "id": "cdKNwflce9XQ",
        "outputId": "57c2ded2-d395-47e1-aa29-04428c436586"
      },
      "execution_count": null,
      "outputs": [
        {
          "output_type": "stream",
          "name": "stdout",
          "text": [
            "Epoch 1/5\n",
            "1563/1563 [==============================] - 703s 449ms/step - loss: 1.3314 - sparse_categorical_accuracy: 0.5323\n",
            "Epoch 2/5\n",
            "  99/1563 [>.............................] - ETA: 11:15 - loss: 1.0628 - sparse_categorical_accuracy: 0.6269"
          ]
        }
      ]
    },
    {
      "cell_type": "code",
      "source": [
        "# Create the student\n",
        "student = tf.keras.Sequential(\n",
        "    [\n",
        "        tf.keras.Input(shape=(32, 32, 3)),\n",
        "        tf.keras.layers.Conv2D(64, (3, 3), strides=(2, 2), padding=\"same\"),\n",
        "        tf.keras.layers.LeakyReLU(alpha=0.2),\n",
        "        tf.keras.layers.MaxPooling2D(pool_size=(2, 2), strides=(1, 1), padding=\"same\"),\n",
        "        tf.keras.layers.Conv2D(256, (3, 3), strides=(2, 2), padding=\"same\"),\n",
        "        tf.keras.layers.LeakyReLU(alpha=0.2),\n",
        "        tf.keras.layers.MaxPooling2D(pool_size=(2, 2), strides=(1, 1), padding=\"same\"),\n",
        "        tf.keras.layers.Flatten(),\n",
        "        tf.keras.layers.Dense(10),\n",
        "    ],\n",
        "    name=\"student\",\n",
        ")\n",
        "student.summary()"
      ],
      "metadata": {
        "id": "A1lbZrzze4bG"
      },
      "execution_count": null,
      "outputs": []
    },
    {
      "cell_type": "code",
      "source": [
        "class Distiller(keras.Model):\n",
        "    def __init__(self, student, teacher):\n",
        "        super(Distiller, self).__init__()\n",
        "        self.teacher = teacher\n",
        "        self.student = student\n",
        "    \n",
        "    def compile(\n",
        "        self,\n",
        "        optimizer,\n",
        "        metrics,\n",
        "        student_loss_fn,\n",
        "        distillation_loss_fn,\n",
        "        alpha=0.1,\n",
        "        temperature=3,\n",
        "    ):\n",
        "        \"\"\" \n",
        "        Configure the distiller.student_loss_fn: Loss function of difference \n",
        "        between student predictions and ground-truth\n",
        "\n",
        "        distillation_loss_fn: Loss function of difference between soft\n",
        "        student predictions and soft teacher predictions\n",
        "\n",
        "        alpha: weight to student_loss_fn and 1-alpha to distillation_loss_fn\n",
        "\n",
        "        temperature: Temperature for softening probability distributions.\n",
        "        Larger temperature gives softer distributions.\n",
        "        \"\"\"\n",
        "        super(Distiller, self).compile(optimizer=optimizer, metrics=metrics)\n",
        "        self.student_loss_fn=student_loss_fn\n",
        "        self.distillation_loss_fn= distillation_loss_fn\n",
        "        self.temperature= temperature\n",
        "        self.alpha= alpha\n",
        "        \n",
        "    def train_step(self, data):\n",
        "        x,y=data\n",
        "        \n",
        "        # Forward pass of teacher\n",
        "        teacher_prediction=self.teacher(x, training=False)\n",
        "        print(\"Tecaher prediction   ...\", teacher_prediction)\n",
        "        with tf.GradientTape() as tape:\n",
        "            # Forward pass of student\n",
        "            student_predcition= self.student(x, training=True)\n",
        "            # Compute losses\n",
        "            student_loss= self.student_loss_fn(y, student_predcition)\n",
        "            \n",
        "            distillation_loss=self.distillation_loss_fn(\n",
        "            tf.nn.softmax(teacher_prediction/self.temperature, axis=1),\n",
        "            tf.nn.softmax(student_predcition/self.temperature, axis=1)\n",
        "            )\n",
        "            loss= self.alpha* student_loss + (1-self.alpha)* distillation_loss\n",
        "            print(\"Loss in distiller :\",loss)\n",
        "            # Compute gradients\n",
        "            trainable_vars= self.student.trainable_variables\n",
        "            gradients=tape.gradient(loss, trainable_vars)\n",
        "            gradients = [gradient * (self.temperature ** 2) for gradient in gradients]\n",
        "            # Update weights\n",
        "            self.optimizer.apply_gradients(zip(gradients, trainable_vars))\n",
        "            \n",
        "            # Update the metrics configured in `compile()`\n",
        "            self.compiled_metrics.update_state(y, student_predcition)\n",
        "            \n",
        "            # Return a dict of performance\n",
        "            results={ m.name: m.result()  for m in self.metrics}\n",
        "            results.update({\"student_loss\": student_loss, \"distillation_loss\": distillation_loss})\n",
        "            print(\"Train...\", results)\n",
        "            return results\n",
        "        \n",
        "    def test_step(self, data):\n",
        "        # Unpack the data\n",
        "        x, y = data\n",
        "        \n",
        "        ## Compute predictions\n",
        "        y_prediction= self.student(x, training=False)\n",
        "        \n",
        "        # calculate the loss\n",
        "        student_loss= self.student_loss_fn(y, y_prediction)\n",
        "        \n",
        "        # Update the metrics.\n",
        "        self.compiled_metrics.update_state(y, y_prediction)\n",
        "        \n",
        "        # Return a dict of performance\n",
        "        results ={m.name: m.result() for m in self.metrics}\n",
        "        results.update({\"student_loss\": student_loss})\n",
        "        print(\"Test...\", results)\n",
        "        return results# Initialize  distiller\n",
        "distiller= Distiller(student=student, teacher=teacher)"
      ],
      "metadata": {
        "id": "XmnKNA0xe8Kd"
      },
      "execution_count": null,
      "outputs": []
    },
    {
      "cell_type": "code",
      "source": [
        "#compile distiller\n",
        "distiller1= Distiller(student=student, teacher=teacher)\n",
        "distiller1.compile(optimizer=keras.optimizers.Adam(),\n",
        "                 metrics=[keras.metrics.SparseCategoricalAccuracy()],\n",
        "                 student_loss_fn=keras.losses.SparseCategoricalCrossentropy(from_logits=True),\n",
        "                 distillation_loss_fn=keras.losses.KLDivergence(),\n",
        "                 alpha=0.3,\n",
        "                 temperature=2)\n",
        "\n",
        "# Distill teacher to student\n",
        "distiller1.fit(x_train, y_train, epochs=5)# Evaluate student on test dataset\n",
        "distiller1.evaluate(x_test, y_test)\n"
      ],
      "metadata": {
        "id": "9PrUWmwYfAw0"
      },
      "execution_count": null,
      "outputs": []
    },
    {
      "cell_type": "code",
      "source": [
        "#compile distiller\n",
        "distiller2= Distiller(student=student, teacher=teacher)\n",
        "distiller2.compile(optimizer=keras.optimizers.Adam(),\n",
        "                 metrics=[keras.metrics.SparseCategoricalAccuracy()],\n",
        "                 student_loss_fn=keras.losses.SparseCategoricalCrossentropy(from_logits=True),\n",
        "                 distillation_loss_fn=keras.losses.KLDivergence(),\n",
        "                 alpha=0.3,\n",
        "                 temperature=3)\n",
        "\n",
        "# Distill teacher to student\n",
        "distiller2.fit(x_train, y_train, epochs=5)# Evaluate student on test dataset\n",
        "distiller2.evaluate(x_test, y_test)\n"
      ],
      "metadata": {
        "id": "xD6Yb9uEfZae"
      },
      "execution_count": null,
      "outputs": []
    },
    {
      "cell_type": "code",
      "source": [
        "#compile distiller\n",
        "distiller3= Distiller(student=student, teacher=teacher)\n",
        "distiller3.compile(optimizer=keras.optimizers.Adam(),\n",
        "                 metrics=[keras.metrics.SparseCategoricalAccuracy()],\n",
        "                 student_loss_fn=keras.losses.SparseCategoricalCrossentropy(from_logits=True),\n",
        "                 distillation_loss_fn=keras.losses.KLDivergence(),\n",
        "                 alpha=0.3,\n",
        "                 temperature=4)\n",
        "\n",
        "# Distill teacher to student\n",
        "distiller3.fit(x_train, y_train, epochs=5)# Evaluate student on test dataset\n",
        "distiller3.evaluate(x_test, y_test)\n"
      ],
      "metadata": {
        "id": "v11FVI2RgyMx"
      },
      "execution_count": null,
      "outputs": []
    },
    {
      "cell_type": "code",
      "source": [
        "student.compile(\n",
        "                 optimizer=keras.optimizers.Adam(),\n",
        "                 metrics=[keras.metrics.SparseCategoricalAccuracy()],\n",
        "                 loss=keras.losses.SparseCategoricalCrossentropy(from_logits=True),\n",
        ")"
      ],
      "metadata": {
        "id": "BijPSQ9boFh6"
      },
      "execution_count": null,
      "outputs": []
    },
    {
      "cell_type": "code",
      "source": [
        "student.fit(x_train, y_train, epochs=5)\n",
        "student.evaluate(x_test, y_test)"
      ],
      "metadata": {
        "id": "40H_veRWobQ9"
      },
      "execution_count": null,
      "outputs": []
    }
  ]
}