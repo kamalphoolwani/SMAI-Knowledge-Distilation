{
  "nbformat": 4,
  "nbformat_minor": 0,
  "metadata": {
    "colab": {
      "name": "KD MNIST 3.ipynb",
      "provenance": [],
      "authorship_tag": "ABX9TyNGKA4da25M8foZBTI5vMaH",
      "include_colab_link": true
    },
    "kernelspec": {
      "name": "python3",
      "display_name": "Python 3"
    },
    "language_info": {
      "name": "python"
    },
    "accelerator": "GPU"
  },
  "cells": [
    {
      "cell_type": "markdown",
      "metadata": {
        "id": "view-in-github",
        "colab_type": "text"
      },
      "source": [
        "<a href=\"https://colab.research.google.com/github/shreyash53/SMAI-Knowledge-Distilation/blob/main/KD_MNIST_3.ipynb\" target=\"_parent\"><img src=\"https://colab.research.google.com/assets/colab-badge.svg\" alt=\"Open In Colab\"/></a>"
      ]
    },
    {
      "cell_type": "code",
      "execution_count": 2,
      "metadata": {
        "id": "_WJ2UE1Y3lxV"
      },
      "outputs": [],
      "source": [
        "import numpy as np\n",
        "import pandas as pd\n",
        "import os\n",
        "\n",
        "import tensorflow as tf\n",
        "from tensorflow import keras"
      ]
    },
    {
      "cell_type": "code",
      "source": [
        "# Importing MNIST dataset\n",
        "\n",
        "(x_train, y_train), (x_test, y_test) = keras.datasets.mnist.load_data()"
      ],
      "metadata": {
        "colab": {
          "base_uri": "https://localhost:8080/"
        },
        "id": "CKrRqOoi5XJk",
        "outputId": "0cbe05f4-2166-4e5f-936a-014e5e486dc4"
      },
      "execution_count": null,
      "outputs": [
        {
          "output_type": "stream",
          "name": "stdout",
          "text": [
            "Downloading data from https://storage.googleapis.com/tensorflow/tf-keras-datasets/mnist.npz\n",
            "11493376/11490434 [==============================] - 0s 0us/step\n",
            "11501568/11490434 [==============================] - 0s 0us/step\n"
          ]
        }
      ]
    },
    {
      "cell_type": "code",
      "source": [
        "x_train = x_train.astype(\"float32\") / 255\n",
        "x_test = x_test.astype(\"float32\") / 255\n",
        "\n",
        "x_train = np.expand_dims(x_train, -1)\n",
        "x_test = np.expand_dims(x_test, -1)\n",
        "\n",
        "print(\"Train data shape:\", x_train.shape)\n",
        "print(x_train.shape[0], \"train samples\")\n",
        "print(x_test.shape[0], \"test samples\")"
      ],
      "metadata": {
        "colab": {
          "base_uri": "https://localhost:8080/"
        },
        "id": "_tsbf8TF6zQg",
        "outputId": "ac6b832d-b312-4d84-b206-75eaff8eccb0"
      },
      "execution_count": null,
      "outputs": [
        {
          "output_type": "stream",
          "name": "stdout",
          "text": [
            "Train data shape: (60000, 28, 28, 1)\n",
            "60000 train samples\n",
            "10000 test samples\n"
          ]
        }
      ]
    },
    {
      "cell_type": "code",
      "source": [
        "from sklearn.preprocessing import OneHotEncoder\n",
        "\n",
        "print ('label shape: ',np.shape(y_train),np.shape(y_test))\n",
        "def encode(y):\n",
        "    df = pd.DataFrame(y, columns=[\"class\"])\n",
        "    encoder = OneHotEncoder(handle_unknown='ignore')\n",
        "    encoder_df = pd.DataFrame(encoder.fit_transform(df[['class']]).toarray())\n",
        "    final_df = df.join(encoder_df)\n",
        "    final_df.drop('class', axis=1, inplace=True)\n",
        "    return final_df.to_numpy()\n",
        "y_train = encode(y_train)\n",
        "y_test = encode(y_test)\n",
        "print ('label shape: ',np.shape(y_train),np.shape(y_test))\n",
        "# print(y_test_[2], y_test[2])"
      ],
      "metadata": {
        "colab": {
          "base_uri": "https://localhost:8080/"
        },
        "id": "Q6Nikw8I627w",
        "outputId": "94f92387-3191-4005-b3ef-2b50cb3a5e21"
      },
      "execution_count": null,
      "outputs": [
        {
          "output_type": "stream",
          "name": "stdout",
          "text": [
            "label shape:  (60000,) (10000,)\n",
            "label shape:  (60000, 10) (10000, 10)\n"
          ]
        }
      ]
    },
    {
      "cell_type": "code",
      "source": [
        "# Teacher Model\n",
        "\n",
        "teacher_model = keras.Sequential([\n",
        "    keras.Input(shape=(28, 28, 1)),\n",
        "    keras.layers.Flatten(),\n",
        "    keras.layers.Dense(1200, activation=\"relu\"),\n",
        "    keras.layers.Dropout(0.5),\n",
        "    keras.layers.Dense(1200, activation=\"relu\"),\n",
        "    keras.layers.Dropout(0.5),\n",
        "    keras.layers.Dense(10, activation=\"softmax\"),\n",
        "    ], name=\"teacher\"\n",
        ")\n",
        "\n",
        "teacher_model.summary()"
      ],
      "metadata": {
        "id": "oTE88SEL4BI6",
        "colab": {
          "base_uri": "https://localhost:8080/"
        },
        "outputId": "706fa828-3b6b-4820-e997-d098badab3d5"
      },
      "execution_count": null,
      "outputs": [
        {
          "output_type": "stream",
          "name": "stdout",
          "text": [
            "Model: \"teacher\"\n",
            "_________________________________________________________________\n",
            " Layer (type)                Output Shape              Param #   \n",
            "=================================================================\n",
            " flatten (Flatten)           (None, 784)               0         \n",
            "                                                                 \n",
            " dense (Dense)               (None, 1200)              942000    \n",
            "                                                                 \n",
            " dropout (Dropout)           (None, 1200)              0         \n",
            "                                                                 \n",
            " dense_1 (Dense)             (None, 1200)              1441200   \n",
            "                                                                 \n",
            " dropout_1 (Dropout)         (None, 1200)              0         \n",
            "                                                                 \n",
            " dense_2 (Dense)             (None, 10)                12010     \n",
            "                                                                 \n",
            "=================================================================\n",
            "Total params: 2,395,210\n",
            "Trainable params: 2,395,210\n",
            "Non-trainable params: 0\n",
            "_________________________________________________________________\n"
          ]
        }
      ]
    },
    {
      "cell_type": "code",
      "source": [
        "callback = keras.callbacks.EarlyStopping(monitor='val_loss', patience=2)\n",
        "teacher_model.compile(loss=\"categorical_crossentropy\", optimizer=\"sgd\", metrics=[\"accuracy\"])\n",
        "teacher_model.fit(x_train, y_train, epochs=20, validation_split=0.1, callbacks=[callback])"
      ],
      "metadata": {
        "id": "NxPXfL_U7ViQ"
      },
      "execution_count": null,
      "outputs": []
    },
    {
      "cell_type": "code",
      "source": [
        "y_test.shape"
      ],
      "metadata": {
        "colab": {
          "base_uri": "https://localhost:8080/"
        },
        "id": "YiFPavq7XfP_",
        "outputId": "25d64d1c-3f41-4763-fe8f-5d54b3e56bd9"
      },
      "execution_count": null,
      "outputs": [
        {
          "output_type": "execute_result",
          "data": {
            "text/plain": [
              "(10000, 10)"
            ]
          },
          "metadata": {},
          "execution_count": 7
        }
      ]
    },
    {
      "cell_type": "code",
      "source": [
        "# Evaluate Teacher Model\n",
        "\n",
        "score = teacher_model.evaluate(x_test, y_test, verbose=0)\n",
        "print(\"Test loss:\", score[0])\n",
        "print(\"Test accuracy:\", score[1])"
      ],
      "metadata": {
        "colab": {
          "base_uri": "https://localhost:8080/"
        },
        "id": "MRBjfZoIEwhk",
        "outputId": "a32194a1-2bf1-4127-9658-53a1a95a5294"
      },
      "execution_count": null,
      "outputs": [
        {
          "output_type": "stream",
          "name": "stdout",
          "text": [
            "Test loss: 0.07354190945625305\n",
            "Test accuracy: 0.9768000245094299\n"
          ]
        }
      ]
    },
    {
      "cell_type": "code",
      "source": [
        "# Small Model\n",
        "\n",
        "small_model = keras.Sequential([\n",
        "    keras.Input(shape=(28, 28, 1)),\n",
        "    keras.layers.Flatten(),\n",
        "    keras.layers.Dense(800, activation=\"relu\"),\n",
        "    keras.layers.Dropout(0.5),\n",
        "    keras.layers.Dense(800, activation=\"relu\"),\n",
        "    keras.layers.Dropout(0.5),\n",
        "    keras.layers.Dense(10, activation=\"softmax\"), \n",
        "    ], name=\"Student\"\n",
        ")\n",
        "\n",
        "small_model.summary()"
      ],
      "metadata": {
        "colab": {
          "base_uri": "https://localhost:8080/"
        },
        "id": "KFpPmg3CH4-O",
        "outputId": "8523bbc7-cf72-42fe-d48e-e6ba25356985"
      },
      "execution_count": 3,
      "outputs": [
        {
          "output_type": "stream",
          "name": "stdout",
          "text": [
            "Model: \"Student\"\n",
            "_________________________________________________________________\n",
            " Layer (type)                Output Shape              Param #   \n",
            "=================================================================\n",
            " flatten (Flatten)           (None, 784)               0         \n",
            "                                                                 \n",
            " dense (Dense)               (None, 800)               628000    \n",
            "                                                                 \n",
            " dropout (Dropout)           (None, 800)               0         \n",
            "                                                                 \n",
            " dense_1 (Dense)             (None, 800)               640800    \n",
            "                                                                 \n",
            " dropout_1 (Dropout)         (None, 800)               0         \n",
            "                                                                 \n",
            " dense_2 (Dense)             (None, 10)                8010      \n",
            "                                                                 \n",
            "=================================================================\n",
            "Total params: 1,276,810\n",
            "Trainable params: 1,276,810\n",
            "Non-trainable params: 0\n",
            "_________________________________________________________________\n"
          ]
        }
      ]
    },
    {
      "cell_type": "code",
      "source": [
        "callback = keras.callbacks.EarlyStopping(monitor='val_loss', patience=2)\n",
        "small_model.compile(loss=\"categorical_crossentropy\", optimizer=\"sgd\", metrics=[\"accuracy\"])\n",
        "small_model.fit(x_train, y_train, epochs=20, validation_split=0.1, callbacks=[callback])"
      ],
      "metadata": {
        "id": "Apvf4UNqIK_T",
        "colab": {
          "base_uri": "https://localhost:8080/"
        },
        "outputId": "4e882705-294f-44eb-c42f-697d3fa78554"
      },
      "execution_count": null,
      "outputs": [
        {
          "output_type": "stream",
          "name": "stdout",
          "text": [
            "Epoch 1/20\n",
            "1688/1688 [==============================] - 8s 5ms/step - loss: 0.7825 - accuracy: 0.7619 - val_loss: 0.2705 - val_accuracy: 0.9222\n",
            "Epoch 2/20\n",
            "1688/1688 [==============================] - 8s 4ms/step - loss: 0.3925 - accuracy: 0.8835 - val_loss: 0.2045 - val_accuracy: 0.9370\n",
            "Epoch 3/20\n",
            "1688/1688 [==============================] - 8s 4ms/step - loss: 0.3171 - accuracy: 0.9057 - val_loss: 0.1717 - val_accuracy: 0.9505\n",
            "Epoch 4/20\n",
            "1688/1688 [==============================] - 9s 5ms/step - loss: 0.2689 - accuracy: 0.9202 - val_loss: 0.1493 - val_accuracy: 0.9593\n",
            "Epoch 5/20\n",
            "1688/1688 [==============================] - 8s 5ms/step - loss: 0.2369 - accuracy: 0.9293 - val_loss: 0.1328 - val_accuracy: 0.9643\n",
            "Epoch 6/20\n",
            "1688/1688 [==============================] - 8s 5ms/step - loss: 0.2154 - accuracy: 0.9352 - val_loss: 0.1206 - val_accuracy: 0.9668\n",
            "Epoch 7/20\n",
            "1688/1688 [==============================] - 8s 5ms/step - loss: 0.1911 - accuracy: 0.9427 - val_loss: 0.1105 - val_accuracy: 0.9687\n",
            "Epoch 8/20\n",
            "1688/1688 [==============================] - 8s 5ms/step - loss: 0.1800 - accuracy: 0.9473 - val_loss: 0.1027 - val_accuracy: 0.9710\n",
            "Epoch 9/20\n",
            "1688/1688 [==============================] - 8s 5ms/step - loss: 0.1676 - accuracy: 0.9503 - val_loss: 0.0969 - val_accuracy: 0.9720\n",
            "Epoch 10/20\n",
            "1688/1688 [==============================] - 8s 4ms/step - loss: 0.1534 - accuracy: 0.9548 - val_loss: 0.0926 - val_accuracy: 0.9732\n",
            "Epoch 11/20\n",
            "1688/1688 [==============================] - 8s 5ms/step - loss: 0.1464 - accuracy: 0.9568 - val_loss: 0.0877 - val_accuracy: 0.9738\n",
            "Epoch 12/20\n",
            "1688/1688 [==============================] - 8s 5ms/step - loss: 0.1377 - accuracy: 0.9582 - val_loss: 0.0845 - val_accuracy: 0.9748\n",
            "Epoch 13/20\n",
            "1688/1688 [==============================] - 8s 4ms/step - loss: 0.1311 - accuracy: 0.9611 - val_loss: 0.0809 - val_accuracy: 0.9763\n",
            "Epoch 14/20\n",
            "1688/1688 [==============================] - 8s 5ms/step - loss: 0.1231 - accuracy: 0.9643 - val_loss: 0.0771 - val_accuracy: 0.9773\n",
            "Epoch 15/20\n",
            "1688/1688 [==============================] - 8s 5ms/step - loss: 0.1178 - accuracy: 0.9648 - val_loss: 0.0762 - val_accuracy: 0.9785\n",
            "Epoch 16/20\n",
            "1688/1688 [==============================] - 8s 5ms/step - loss: 0.1137 - accuracy: 0.9662 - val_loss: 0.0732 - val_accuracy: 0.9778\n",
            "Epoch 17/20\n",
            "1688/1688 [==============================] - 8s 5ms/step - loss: 0.1058 - accuracy: 0.9681 - val_loss: 0.0721 - val_accuracy: 0.9790\n",
            "Epoch 18/20\n",
            "1688/1688 [==============================] - 8s 4ms/step - loss: 0.1043 - accuracy: 0.9685 - val_loss: 0.0723 - val_accuracy: 0.9797\n",
            "Epoch 19/20\n",
            "1688/1688 [==============================] - 8s 5ms/step - loss: 0.0991 - accuracy: 0.9706 - val_loss: 0.0691 - val_accuracy: 0.9802\n",
            "Epoch 20/20\n",
            "1688/1688 [==============================] - 8s 5ms/step - loss: 0.0962 - accuracy: 0.9703 - val_loss: 0.0671 - val_accuracy: 0.9800\n"
          ]
        },
        {
          "output_type": "execute_result",
          "data": {
            "text/plain": [
              "<keras.callbacks.History at 0x7f54fb78c5d0>"
            ]
          },
          "metadata": {},
          "execution_count": 109
        }
      ]
    },
    {
      "cell_type": "code",
      "source": [
        "# Evaluate Small Model\n",
        "\n",
        "score = small_model.evaluate(x_test, y_test, verbose=0)\n",
        "print(\"Test loss:\", score[0])\n",
        "print(\"Test accuracy:\", score[1])"
      ],
      "metadata": {
        "id": "0TwoBSM7OEQc",
        "colab": {
          "base_uri": "https://localhost:8080/"
        },
        "outputId": "fda1b4dc-b558-4c81-a610-0f6fcdfc56f3"
      },
      "execution_count": null,
      "outputs": [
        {
          "output_type": "stream",
          "name": "stdout",
          "text": [
            "Test loss: 0.07492998987436295\n",
            "Test accuracy: 0.9764999747276306\n"
          ]
        }
      ]
    },
    {
      "cell_type": "code",
      "source": [
        "# Student Model\n",
        "class StudentModel(keras.Model):\n",
        "    def __init__(self, T):\n",
        "        super(StudentModel, self).__init__()\n",
        "        \n",
        "        self.T = T\n",
        "        \n",
        "        self.input_layer = keras.Input(shape=(28, 28, 1))\n",
        "        self.flat = keras.layers.Flatten()\n",
        "        self.d1 = keras.layers.Dense(800, activation=\"relu\")\n",
        "        self.do1 = keras.layers.Dropout(0.5)\n",
        "        self.d2 = keras.layers.Dense(800, activation=\"relu\")\n",
        "        self.do2 = keras.layers.Dropout(0.5)\n",
        "        self.d3 = keras.layers.Dense(10, activation=\"softmax\")\n",
        "\n",
        "    def call(self, x):\n",
        "        x = self.flat(x)\n",
        "        x = self.d1(x)\n",
        "        x = self.do1(x)\n",
        "        x = self.d2(x)\n",
        "        x = self.do2(x)\n",
        "        x = self.d3(x / self.T)\n",
        "        return x"
      ],
      "metadata": {
        "id": "6ya7-YyYSp45"
      },
      "execution_count": null,
      "outputs": []
    },
    {
      "cell_type": "code",
      "source": [
        "temp = 8\n",
        "student_model = StudentModel(temp)\n",
        "\n",
        "loss = keras.losses.CategoricalCrossentropy()\n",
        "optimizer = keras.optimizers.Adam()\n",
        "\n",
        "student_model.compile(\n",
        "    loss=loss,\n",
        "    optimizer=optimizer,\n",
        "    metrics=[\"accuracy\"])"
      ],
      "metadata": {
        "id": "wiHjM3M3dDGS"
      },
      "execution_count": null,
      "outputs": []
    },
    {
      "cell_type": "code",
      "source": [
        "y_pred_teacher = teacher_model.predict(x_train)\n",
        "\n",
        "student_model.fit(x_train, y_pred_teacher, epochs=20)"
      ],
      "metadata": {
        "colab": {
          "base_uri": "https://localhost:8080/"
        },
        "id": "277Az8xHeU-l",
        "outputId": "87f10112-bca6-438e-888a-c8928b8ca305"
      },
      "execution_count": null,
      "outputs": [
        {
          "output_type": "stream",
          "name": "stdout",
          "text": [
            "Epoch 1/20\n",
            "1875/1875 [==============================] - 8s 4ms/step - loss: 0.3162 - accuracy: 0.9080\n",
            "Epoch 2/20\n",
            "1875/1875 [==============================] - 7s 4ms/step - loss: 0.1485 - accuracy: 0.9630\n",
            "Epoch 3/20\n",
            "1875/1875 [==============================] - 7s 4ms/step - loss: 0.1314 - accuracy: 0.9708\n",
            "Epoch 4/20\n",
            "1875/1875 [==============================] - 7s 4ms/step - loss: 0.1222 - accuracy: 0.9748\n",
            "Epoch 5/20\n",
            "1875/1875 [==============================] - 7s 4ms/step - loss: 0.1189 - accuracy: 0.9764\n",
            "Epoch 6/20\n",
            "1875/1875 [==============================] - 7s 4ms/step - loss: 0.1165 - accuracy: 0.9776\n",
            "Epoch 7/20\n",
            "1875/1875 [==============================] - 7s 4ms/step - loss: 0.1121 - accuracy: 0.9808\n",
            "Epoch 8/20\n",
            "1875/1875 [==============================] - 7s 4ms/step - loss: 0.1125 - accuracy: 0.9799\n",
            "Epoch 9/20\n",
            "1875/1875 [==============================] - 7s 4ms/step - loss: 0.1091 - accuracy: 0.9810\n",
            "Epoch 10/20\n",
            "1875/1875 [==============================] - 7s 4ms/step - loss: 0.1086 - accuracy: 0.9817\n",
            "Epoch 11/20\n",
            "1875/1875 [==============================] - 7s 4ms/step - loss: 0.1071 - accuracy: 0.9827\n",
            "Epoch 12/20\n",
            "1875/1875 [==============================] - 7s 4ms/step - loss: 0.1053 - accuracy: 0.9827\n",
            "Epoch 13/20\n",
            "1875/1875 [==============================] - 7s 4ms/step - loss: 0.1057 - accuracy: 0.9833\n",
            "Epoch 14/20\n",
            "1875/1875 [==============================] - 7s 4ms/step - loss: 0.1047 - accuracy: 0.9833\n",
            "Epoch 15/20\n",
            "1875/1875 [==============================] - 10s 5ms/step - loss: 0.1045 - accuracy: 0.9830\n",
            "Epoch 16/20\n",
            "1875/1875 [==============================] - 7s 4ms/step - loss: 0.1035 - accuracy: 0.9841\n",
            "Epoch 17/20\n",
            "1875/1875 [==============================] - 7s 4ms/step - loss: 0.1038 - accuracy: 0.9840\n",
            "Epoch 18/20\n",
            "1875/1875 [==============================] - 9s 5ms/step - loss: 0.1032 - accuracy: 0.9846\n",
            "Epoch 19/20\n",
            "1875/1875 [==============================] - 7s 4ms/step - loss: 0.1028 - accuracy: 0.9842\n",
            "Epoch 20/20\n",
            "1875/1875 [==============================] - 7s 4ms/step - loss: 0.1020 - accuracy: 0.9844\n"
          ]
        },
        {
          "output_type": "execute_result",
          "data": {
            "text/plain": [
              "<keras.callbacks.History at 0x7f55a024b190>"
            ]
          },
          "metadata": {},
          "execution_count": 117
        }
      ]
    },
    {
      "cell_type": "code",
      "source": [
        "# Evaluate Student model\n",
        "score = student_model.evaluate(x_test, y_test, verbose=0)\n",
        "print(\"Test loss:\", score[0])\n",
        "print(\"Test accuracy:\", score[1])"
      ],
      "metadata": {
        "colab": {
          "base_uri": "https://localhost:8080/"
        },
        "id": "sV8wv3DM77ZO",
        "outputId": "9eae9685-0888-472c-9520-3cf086cb89a7"
      },
      "execution_count": null,
      "outputs": [
        {
          "output_type": "stream",
          "name": "stdout",
          "text": [
            "Test loss: 0.07544821500778198\n",
            "Test accuracy: 0.9769999980926514\n"
          ]
        }
      ]
    },
    {
      "cell_type": "code",
      "source": [
        "x_test_no_3 = []\n",
        "y_test_no_3 = []\n",
        "x_test_3 = []\n",
        "y_test_3 = []\n",
        "\n",
        "for i in range(len(x_test)):\n",
        "    if np.argmax(y_test[i]) == 3:\n",
        "        x_test_3.append(x_test[i])\n",
        "        y_test_3.append(y_test[i])\n",
        "        # print(y_test[i])\n",
        "    else:\n",
        "        x_test_no_3.append(x_test[i])\n",
        "        y_test_no_3.append(y_test[i])\n",
        "\n",
        "x_test_no_3 = np.array(x_test_no_3)\n",
        "y_test_no_3 = np.array(y_test_no_3)\n",
        "x_test_3 = np.array(x_test_3)\n",
        "y_test_3 = np.array(y_test_3)"
      ],
      "metadata": {
        "id": "wvHT9iUm8fY3"
      },
      "execution_count": null,
      "outputs": []
    },
    {
      "cell_type": "code",
      "source": [
        "x_train_no_3 = []\n",
        "y_train_no_3 = []\n",
        "x_train_3 = []\n",
        "y_train_3 = []\n",
        "\n",
        "for i in range(len(x_train)):\n",
        "    if np.argmax(y_train[i]) == 3:\n",
        "        x_train_3.append(x_train[i])\n",
        "        y_train_3.append(y_train[i])\n",
        "    else:\n",
        "        x_train_no_3.append(x_train[i])\n",
        "        y_train_no_3.append(y_train[i])\n",
        "\n",
        "x_train_no_3 = np.array(x_train_no_3)\n",
        "y_train_no_3 = np.array(y_train_no_3)\n",
        "x_train_3 = np.array(x_train_3)\n",
        "y_train_3 = np.array(y_train_3)"
      ],
      "metadata": {
        "id": "BG3W_QOc_glB"
      },
      "execution_count": null,
      "outputs": []
    },
    {
      "cell_type": "code",
      "source": [
        "len(x_test_3)"
      ],
      "metadata": {
        "colab": {
          "base_uri": "https://localhost:8080/"
        },
        "id": "b866QEg7-TZw",
        "outputId": "3b8464f9-82a2-412e-84a9-a095aa62264a"
      },
      "execution_count": null,
      "outputs": [
        {
          "output_type": "execute_result",
          "data": {
            "text/plain": [
              "1010"
            ]
          },
          "metadata": {},
          "execution_count": 121
        }
      ]
    },
    {
      "cell_type": "code",
      "source": [
        "temp = 6\n",
        "student_model = StudentModel(temp)\n",
        "\n",
        "loss = keras.losses.CategoricalCrossentropy()\n",
        "optimizer = keras.optimizers.Adam()\n",
        "\n",
        "student_model.compile(\n",
        "    loss=loss,\n",
        "    optimizer=optimizer,\n",
        "    metrics=[\"accuracy\"])"
      ],
      "metadata": {
        "id": "XvnMXUr8-yda"
      },
      "execution_count": null,
      "outputs": []
    },
    {
      "cell_type": "code",
      "source": [
        "y_pred_teacher_no_3 = teacher_model.predict(x_train_no_3)\n",
        "\n",
        "student_model.fit(x_train_no_3, y_pred_teacher_no_3, epochs=20)"
      ],
      "metadata": {
        "colab": {
          "base_uri": "https://localhost:8080/"
        },
        "id": "s2oZwzAy-0h2",
        "outputId": "7ad703a1-34be-4e2d-c029-4c66f47d6e4c"
      },
      "execution_count": null,
      "outputs": [
        {
          "output_type": "stream",
          "name": "stdout",
          "text": [
            "Epoch 1/20\n",
            "1684/1684 [==============================] - 8s 5ms/step - loss: 0.2348 - accuracy: 0.9347\n",
            "Epoch 2/20\n",
            "1684/1684 [==============================] - 8s 5ms/step - loss: 0.1255 - accuracy: 0.9725\n",
            "Epoch 3/20\n",
            "1684/1684 [==============================] - 8s 5ms/step - loss: 0.1140 - accuracy: 0.9778\n",
            "Epoch 4/20\n",
            "1684/1684 [==============================] - 8s 5ms/step - loss: 0.1084 - accuracy: 0.9806\n",
            "Epoch 5/20\n",
            "1684/1684 [==============================] - 8s 5ms/step - loss: 0.1045 - accuracy: 0.9818\n",
            "Epoch 6/20\n",
            "1684/1684 [==============================] - 8s 5ms/step - loss: 0.1026 - accuracy: 0.9824\n",
            "Epoch 7/20\n",
            "1684/1684 [==============================] - 8s 5ms/step - loss: 0.1016 - accuracy: 0.9844\n",
            "Epoch 8/20\n",
            "1684/1684 [==============================] - 8s 5ms/step - loss: 0.0995 - accuracy: 0.9847\n",
            "Epoch 9/20\n",
            "1684/1684 [==============================] - 8s 5ms/step - loss: 0.0999 - accuracy: 0.9836\n",
            "Epoch 10/20\n",
            "1684/1684 [==============================] - 8s 5ms/step - loss: 0.0975 - accuracy: 0.9861\n",
            "Epoch 11/20\n",
            "1684/1684 [==============================] - 8s 5ms/step - loss: 0.0966 - accuracy: 0.9862\n",
            "Epoch 12/20\n",
            "1684/1684 [==============================] - 8s 5ms/step - loss: 0.0968 - accuracy: 0.9857\n",
            "Epoch 13/20\n",
            "1684/1684 [==============================] - 8s 5ms/step - loss: 0.0967 - accuracy: 0.9863\n",
            "Epoch 14/20\n",
            "1684/1684 [==============================] - 8s 5ms/step - loss: 0.0955 - accuracy: 0.9863\n",
            "Epoch 15/20\n",
            "1684/1684 [==============================] - 8s 5ms/step - loss: 0.0944 - accuracy: 0.9870\n",
            "Epoch 16/20\n",
            "1684/1684 [==============================] - 8s 5ms/step - loss: 0.0954 - accuracy: 0.9863\n",
            "Epoch 17/20\n",
            "1684/1684 [==============================] - 8s 5ms/step - loss: 0.0948 - accuracy: 0.9872\n",
            "Epoch 18/20\n",
            "1684/1684 [==============================] - 8s 5ms/step - loss: 0.0943 - accuracy: 0.9870\n",
            "Epoch 19/20\n",
            "1684/1684 [==============================] - 8s 5ms/step - loss: 0.0934 - accuracy: 0.9880\n",
            "Epoch 20/20\n",
            "1684/1684 [==============================] - 8s 5ms/step - loss: 0.0936 - accuracy: 0.9865\n"
          ]
        },
        {
          "output_type": "execute_result",
          "data": {
            "text/plain": [
              "<keras.callbacks.History at 0x7f55322bc710>"
            ]
          },
          "metadata": {},
          "execution_count": 146
        }
      ]
    },
    {
      "cell_type": "code",
      "source": [
        "# Evaluate Student model\n",
        "score = student_model.evaluate(x_test_3, y_test_3, verbose=0)\n",
        "print(\"Test loss:\", score[0])\n",
        "print(\"Test accuracy:\", score[1])"
      ],
      "metadata": {
        "colab": {
          "base_uri": "https://localhost:8080/"
        },
        "id": "CIuHXniT_c_7",
        "outputId": "be749bd2-220d-45d5-ba8b-035d2c1829c1"
      },
      "execution_count": null,
      "outputs": [
        {
          "output_type": "stream",
          "name": "stdout",
          "text": [
            "Test loss: 0.8868426084518433\n",
            "Test accuracy: 0.5970296859741211\n"
          ]
        }
      ]
    }
  ]
}