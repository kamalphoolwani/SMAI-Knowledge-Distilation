{
  "nbformat": 4,
  "nbformat_minor": 0,
  "metadata": {
    "colab": {
      "name": "KD CIFAR10 02.ipynb",
      "provenance": [],
      "include_colab_link": true
    },
    "kernelspec": {
      "name": "python3",
      "display_name": "Python 3"
    },
    "language_info": {
      "name": "python"
    },
    "accelerator": "GPU"
  },
  "cells": [
    {
      "cell_type": "markdown",
      "metadata": {
        "id": "view-in-github",
        "colab_type": "text"
      },
      "source": [
        "<a href=\"https://colab.research.google.com/github/shreyash53/SMAI-Knowledge-Distilation/blob/main/KD_CIFAR10_02-1.ipynb\" target=\"_parent\"><img src=\"https://colab.research.google.com/assets/colab-badge.svg\" alt=\"Open In Colab\"/></a>"
      ]
    },
    {
      "cell_type": "code",
      "execution_count": 1,
      "metadata": {
        "id": "TwASE9pdep3S"
      },
      "outputs": [],
      "source": [
        "import tensorflow as tf\n",
        "from tensorflow import keras\n",
        "import numpy as np"
      ]
    },
    {
      "cell_type": "code",
      "source": [
        "# Prepare the train and test dataset.\n",
        "batch_size = 64\n",
        "(x_train, y_train), (x_test, y_test) = tf.keras.datasets.cifar10.load_data()\n",
        "# Normalize data\n",
        "x_train = x_train.astype(\"float32\") / 255.0\n",
        "x_train = np.reshape(x_train, (-1, 32, 32, 3))\n",
        "x_test = x_test.astype(\"float32\") / 255.0\n",
        "x_test = np.reshape(x_test, (-1, 32, 32,3))\n",
        "print(\"Input Train data  \",x_train.shape)\n",
        "print(\"Train data Labels \",y_train.shape)\n",
        "print(\"Input Test data   \",x_test.shape)\n",
        "print(\"Test data Labels  \",y_test.shape)"
      ],
      "metadata": {
        "colab": {
          "base_uri": "https://localhost:8080/"
        },
        "id": "D7GANx8xe19t",
        "outputId": "e84234d4-637b-45af-c075-34b5222293af"
      },
      "execution_count": 2,
      "outputs": [
        {
          "output_type": "stream",
          "name": "stdout",
          "text": [
            "Downloading data from https://www.cs.toronto.edu/~kriz/cifar-10-python.tar.gz\n",
            "170500096/170498071 [==============================] - 11s 0us/step\n",
            "170508288/170498071 [==============================] - 11s 0us/step\n",
            "Input Train data   (50000, 32, 32, 3)\n",
            "Train data Labels  (50000, 1)\n",
            "Input Test data    (10000, 32, 32, 3)\n",
            "Test data Labels   (10000, 1)\n"
          ]
        }
      ]
    },
    {
      "cell_type": "code",
      "source": [
        "y_train[:2]"
      ],
      "metadata": {
        "id": "9lBEDd7gHldT",
        "outputId": "2b0ad4fb-4db6-4e97-dddf-793278fded95",
        "colab": {
          "base_uri": "https://localhost:8080/"
        }
      },
      "execution_count": 12,
      "outputs": [
        {
          "output_type": "execute_result",
          "data": {
            "text/plain": [
              "array([[6],\n",
              "       [9]], dtype=uint8)"
            ]
          },
          "metadata": {},
          "execution_count": 12
        }
      ]
    },
    {
      "cell_type": "code",
      "source": [
        "teacher = tf.keras.Sequential(\n",
        "    [\n",
        "        tf.keras.Input(shape=(32, 32, 3)),\n",
        "        \n",
        "        tf.keras.layers.Conv2D(256, (3, 3), strides=(2, 2), padding=\"same\"),\n",
        "        tf.keras.layers.LeakyReLU(alpha=0.2),\n",
        "        tf.keras.layers.MaxPooling2D(pool_size=(2, 2), strides=(1, 1), padding=\"same\"),\n",
        "        tf.keras.layers.Conv2D(512, (3, 3), strides=(2, 2), padding=\"same\"),\n",
        "        tf.keras.layers.LeakyReLU(alpha=0.2),\n",
        "        tf.keras.layers.MaxPooling2D(pool_size=(2, 2), strides=(1, 1), padding=\"same\"),\n",
        "        tf.keras.layers.Flatten(),\n",
        "        tf.keras.layers.Dense(10),\n",
        "    ],\n",
        "    name=\"teacher\",\n",
        ")\n",
        "teacher.summary()"
      ],
      "metadata": {
        "colab": {
          "base_uri": "https://localhost:8080/"
        },
        "id": "CZMrR1fQe2lt",
        "outputId": "81f7e354-cb49-4a20-c08a-00650e519720"
      },
      "execution_count": 3,
      "outputs": [
        {
          "output_type": "stream",
          "name": "stdout",
          "text": [
            "Model: \"teacher\"\n",
            "_________________________________________________________________\n",
            " Layer (type)                Output Shape              Param #   \n",
            "=================================================================\n",
            " conv2d (Conv2D)             (None, 16, 16, 256)       7168      \n",
            "                                                                 \n",
            " leaky_re_lu (LeakyReLU)     (None, 16, 16, 256)       0         \n",
            "                                                                 \n",
            " max_pooling2d (MaxPooling2D  (None, 16, 16, 256)      0         \n",
            " )                                                               \n",
            "                                                                 \n",
            " conv2d_1 (Conv2D)           (None, 8, 8, 512)         1180160   \n",
            "                                                                 \n",
            " leaky_re_lu_1 (LeakyReLU)   (None, 8, 8, 512)         0         \n",
            "                                                                 \n",
            " max_pooling2d_1 (MaxPooling  (None, 8, 8, 512)        0         \n",
            " 2D)                                                             \n",
            "                                                                 \n",
            " flatten (Flatten)           (None, 32768)             0         \n",
            "                                                                 \n",
            " dense (Dense)               (None, 10)                327690    \n",
            "                                                                 \n",
            "=================================================================\n",
            "Total params: 1,515,018\n",
            "Trainable params: 1,515,018\n",
            "Non-trainable params: 0\n",
            "_________________________________________________________________\n"
          ]
        }
      ]
    },
    {
      "cell_type": "code",
      "source": [
        "teacher.compile(\n",
        "    optimizer=tf.keras.optimizers.Adam(),\n",
        "    loss=tf.keras.losses.SparseCategoricalCrossentropy(from_logits=True),\n",
        "    metrics=[tf.keras.metrics.SparseCategoricalAccuracy()],\n",
        ")\n",
        "# Train and evaluate teacher on data.\n",
        "teacher.fit(x_train, y_train, epochs=5)\n",
        "teacher.evaluate(x_test, y_test)"
      ],
      "metadata": {
        "colab": {
          "base_uri": "https://localhost:8080/"
        },
        "id": "cdKNwflce9XQ",
        "outputId": "3e3b9606-6ac1-48e4-84aa-61b54634be0a"
      },
      "execution_count": 4,
      "outputs": [
        {
          "output_type": "stream",
          "name": "stdout",
          "text": [
            "Epoch 1/5\n",
            "1563/1563 [==============================] - 42s 20ms/step - loss: 1.3260 - sparse_categorical_accuracy: 0.5369\n",
            "Epoch 2/5\n",
            "1563/1563 [==============================] - 32s 20ms/step - loss: 1.0153 - sparse_categorical_accuracy: 0.6528\n",
            "Epoch 3/5\n",
            "1563/1563 [==============================] - 32s 21ms/step - loss: 0.8829 - sparse_categorical_accuracy: 0.7010\n",
            "Epoch 4/5\n",
            "1563/1563 [==============================] - 32s 21ms/step - loss: 0.7846 - sparse_categorical_accuracy: 0.7354\n",
            "Epoch 5/5\n",
            "1563/1563 [==============================] - 32s 20ms/step - loss: 0.6870 - sparse_categorical_accuracy: 0.7678\n",
            "313/313 [==============================] - 3s 8ms/step - loss: 1.1597 - sparse_categorical_accuracy: 0.6631\n"
          ]
        },
        {
          "output_type": "execute_result",
          "data": {
            "text/plain": [
              "[1.1596760749816895, 0.663100004196167]"
            ]
          },
          "metadata": {},
          "execution_count": 4
        }
      ]
    },
    {
      "cell_type": "code",
      "source": [
        "# Create the student\n",
        "student = tf.keras.Sequential(\n",
        "    [\n",
        "        tf.keras.Input(shape=(32, 32, 3)),\n",
        "        tf.keras.layers.Conv2D(64, (3, 3), strides=(2, 2), padding=\"same\"),\n",
        "        tf.keras.layers.LeakyReLU(alpha=0.2),\n",
        "        tf.keras.layers.MaxPooling2D(pool_size=(2, 2), strides=(1, 1), padding=\"same\"),\n",
        "        tf.keras.layers.Conv2D(256, (3, 3), strides=(2, 2), padding=\"same\"),\n",
        "        tf.keras.layers.LeakyReLU(alpha=0.2),\n",
        "        tf.keras.layers.MaxPooling2D(pool_size=(2, 2), strides=(1, 1), padding=\"same\"),\n",
        "        tf.keras.layers.Flatten(),\n",
        "        tf.keras.layers.Dense(10),\n",
        "    ],\n",
        "    name=\"student\",\n",
        ")\n",
        "student.summary()"
      ],
      "metadata": {
        "id": "A1lbZrzze4bG",
        "colab": {
          "base_uri": "https://localhost:8080/"
        },
        "outputId": "1c1676a1-2873-4af8-c864-8f0f25e1fe3e"
      },
      "execution_count": 5,
      "outputs": [
        {
          "output_type": "stream",
          "name": "stdout",
          "text": [
            "Model: \"student\"\n",
            "_________________________________________________________________\n",
            " Layer (type)                Output Shape              Param #   \n",
            "=================================================================\n",
            " conv2d_2 (Conv2D)           (None, 16, 16, 64)        1792      \n",
            "                                                                 \n",
            " leaky_re_lu_2 (LeakyReLU)   (None, 16, 16, 64)        0         \n",
            "                                                                 \n",
            " max_pooling2d_2 (MaxPooling  (None, 16, 16, 64)       0         \n",
            " 2D)                                                             \n",
            "                                                                 \n",
            " conv2d_3 (Conv2D)           (None, 8, 8, 256)         147712    \n",
            "                                                                 \n",
            " leaky_re_lu_3 (LeakyReLU)   (None, 8, 8, 256)         0         \n",
            "                                                                 \n",
            " max_pooling2d_3 (MaxPooling  (None, 8, 8, 256)        0         \n",
            " 2D)                                                             \n",
            "                                                                 \n",
            " flatten_1 (Flatten)         (None, 16384)             0         \n",
            "                                                                 \n",
            " dense_1 (Dense)             (None, 10)                163850    \n",
            "                                                                 \n",
            "=================================================================\n",
            "Total params: 313,354\n",
            "Trainable params: 313,354\n",
            "Non-trainable params: 0\n",
            "_________________________________________________________________\n"
          ]
        }
      ]
    },
    {
      "cell_type": "code",
      "source": [
        "class Distiller(keras.Model):\n",
        "    def __init__(self, student, teacher):\n",
        "        super(Distiller, self).__init__()\n",
        "        self.teacher = teacher\n",
        "        self.student = student\n",
        "    \n",
        "    def compile(\n",
        "        self,\n",
        "        optimizer,\n",
        "        metrics,\n",
        "        student_loss_fn,\n",
        "        distillation_loss_fn,\n",
        "        alpha=0.1,\n",
        "        temperature=3,\n",
        "    ):\n",
        "        \"\"\" \n",
        "        Configure the distiller.student_loss_fn: Loss function of difference \n",
        "        between student predictions and ground-truth\n",
        "\n",
        "        distillation_loss_fn: Loss function of difference between soft\n",
        "        student predictions and soft teacher predictions\n",
        "\n",
        "        alpha: weight to student_loss_fn and 1-alpha to distillation_loss_fn\n",
        "\n",
        "        temperature: Temperature for softening probability distributions.\n",
        "        Larger temperature gives softer distributions.\n",
        "        \"\"\"\n",
        "        super(Distiller, self).compile(optimizer=optimizer, metrics=metrics)\n",
        "        self.student_loss_fn=student_loss_fn\n",
        "        self.distillation_loss_fn= distillation_loss_fn\n",
        "        self.temperature= temperature\n",
        "        self.alpha= alpha\n",
        "        \n",
        "    def train_step(self, data):\n",
        "        x,y=data\n",
        "        \n",
        "        # Forward pass of teacher\n",
        "        teacher_prediction=self.teacher(x, training=False)\n",
        "        print(\"Tecaher prediction   ...\", teacher_prediction)\n",
        "        with tf.GradientTape() as tape:\n",
        "            # Forward pass of student\n",
        "            student_predcition= self.student(x, training=True)\n",
        "            # Compute losses\n",
        "            student_loss= self.student_loss_fn(y, student_predcition)\n",
        "            \n",
        "            distillation_loss=self.distillation_loss_fn(\n",
        "            tf.nn.softmax(teacher_prediction/self.temperature, axis=1),\n",
        "            tf.nn.softmax(student_predcition/self.temperature, axis=1)\n",
        "            )\n",
        "            loss= self.alpha* student_loss + (1-self.alpha)* distillation_loss\n",
        "            print(\"Loss in distiller :\",loss)\n",
        "            # Compute gradients\n",
        "            trainable_vars= self.student.trainable_variables\n",
        "            gradients=tape.gradient(loss, trainable_vars)\n",
        "            gradients = [gradient * (self.temperature ** 2) for gradient in gradients]\n",
        "            # Update weights\n",
        "            self.optimizer.apply_gradients(zip(gradients, trainable_vars))\n",
        "            \n",
        "            # Update the metrics configured in `compile()`\n",
        "            self.compiled_metrics.update_state(y, student_predcition)\n",
        "            \n",
        "            # Return a dict of performance\n",
        "            results={ m.name: m.result()  for m in self.metrics}\n",
        "            results.update({\"student_loss\": student_loss, \"distillation_loss\": distillation_loss})\n",
        "            print(\"Train...\", results)\n",
        "            return results\n",
        "        \n",
        "    def test_step(self, data):\n",
        "        # Unpack the data\n",
        "        x, y = data\n",
        "        \n",
        "        ## Compute predictions\n",
        "        y_prediction= self.student(x, training=False)\n",
        "        \n",
        "        # calculate the loss\n",
        "        student_loss= self.student_loss_fn(y, y_prediction)\n",
        "        \n",
        "        # Update the metrics.\n",
        "        self.compiled_metrics.update_state(y, y_prediction)\n",
        "        \n",
        "        # Return a dict of performance\n",
        "        results ={m.name: m.result() for m in self.metrics}\n",
        "        results.update({\"student_loss\": student_loss})\n",
        "        print(\"Test...\", results)\n",
        "        return results# Initialize  distiller\n",
        "distiller= Distiller(student=student, teacher=teacher)"
      ],
      "metadata": {
        "id": "XmnKNA0xe8Kd"
      },
      "execution_count": 6,
      "outputs": []
    },
    {
      "cell_type": "code",
      "source": [
        "#compile distiller\n",
        "distiller1= Distiller(student=student, teacher=teacher)\n",
        "distiller1.compile(optimizer=keras.optimizers.Adam(),\n",
        "                 metrics=[keras.metrics.SparseCategoricalAccuracy()],\n",
        "                 student_loss_fn=keras.losses.SparseCategoricalCrossentropy(from_logits=True),\n",
        "                 distillation_loss_fn=keras.losses.KLDivergence(),\n",
        "                 alpha=0.3,\n",
        "                 temperature=2)\n",
        "\n",
        "# Distill teacher to student\n",
        "distiller1.fit(x_train, y_train, epochs=5)# Evaluate student on test dataset\n",
        "distiller1.evaluate(x_test, y_test)\n"
      ],
      "metadata": {
        "id": "9PrUWmwYfAw0",
        "colab": {
          "base_uri": "https://localhost:8080/"
        },
        "outputId": "6d95e787-8e9b-461a-ddec-84b0ed18166b"
      },
      "execution_count": 7,
      "outputs": [
        {
          "output_type": "stream",
          "name": "stdout",
          "text": [
            "Epoch 1/5\n",
            "Tecaher prediction   ... Tensor(\"teacher/dense/BiasAdd:0\", shape=(None, 10), dtype=float32)\n",
            "Loss in distiller : Tensor(\"add:0\", shape=(), dtype=float32)\n",
            "Train... {'sparse_categorical_accuracy': <tf.Tensor 'Identity:0' shape=() dtype=float32>, 'student_loss': <tf.Tensor 'sparse_categorical_crossentropy/weighted_loss/value:0' shape=() dtype=float32>, 'distillation_loss': <tf.Tensor 'kl_divergence/weighted_loss/value:0' shape=() dtype=float32>}\n",
            "Tecaher prediction   ... Tensor(\"teacher/dense/BiasAdd:0\", shape=(None, 10), dtype=float32)\n",
            "Loss in distiller : Tensor(\"add:0\", shape=(), dtype=float32)\n",
            "Train... {'sparse_categorical_accuracy': <tf.Tensor 'Identity:0' shape=() dtype=float32>, 'student_loss': <tf.Tensor 'sparse_categorical_crossentropy/weighted_loss/value:0' shape=() dtype=float32>, 'distillation_loss': <tf.Tensor 'kl_divergence/weighted_loss/value:0' shape=() dtype=float32>}\n",
            "1563/1563 [==============================] - 21s 12ms/step - sparse_categorical_accuracy: 0.5521 - student_loss: 1.2972 - distillation_loss: 0.4161\n",
            "Epoch 2/5\n",
            "1563/1563 [==============================] - 19s 12ms/step - sparse_categorical_accuracy: 0.6754 - student_loss: 0.9594 - distillation_loss: 0.2043\n",
            "Epoch 3/5\n",
            "1563/1563 [==============================] - 19s 12ms/step - sparse_categorical_accuracy: 0.7175 - student_loss: 0.8294 - distillation_loss: 0.1529\n",
            "Epoch 4/5\n",
            "1563/1563 [==============================] - 19s 12ms/step - sparse_categorical_accuracy: 0.7489 - student_loss: 0.7368 - distillation_loss: 0.1295\n",
            "Epoch 5/5\n",
            "1563/1563 [==============================] - 19s 12ms/step - sparse_categorical_accuracy: 0.7714 - student_loss: 0.6661 - distillation_loss: 0.1155\n",
            "Test... {'sparse_categorical_accuracy': <tf.Tensor 'Identity:0' shape=() dtype=float32>, 'student_loss': <tf.Tensor 'sparse_categorical_crossentropy/weighted_loss/value:0' shape=() dtype=float32>}\n",
            "313/313 [==============================] - 1s 4ms/step - sparse_categorical_accuracy: 0.7107 - student_loss: 0.9049\n"
          ]
        },
        {
          "output_type": "execute_result",
          "data": {
            "text/plain": [
              "[0.7106999754905701, 1.1078436374664307]"
            ]
          },
          "metadata": {},
          "execution_count": 7
        }
      ]
    },
    {
      "cell_type": "code",
      "source": [
        "#compile distiller\n",
        "distiller2= Distiller(student=student, teacher=teacher)\n",
        "distiller2.compile(optimizer=keras.optimizers.Adam(),\n",
        "                 metrics=[keras.metrics.SparseCategoricalAccuracy()],\n",
        "                 student_loss_fn=keras.losses.SparseCategoricalCrossentropy(from_logits=True),\n",
        "                 distillation_loss_fn=keras.losses.KLDivergence(),\n",
        "                 alpha=0.3,\n",
        "                 temperature=3)\n",
        "\n",
        "# Distill teacher to student\n",
        "distiller2.fit(x_train, y_train, epochs=5)# Evaluate student on test dataset\n",
        "distiller2.evaluate(x_test, y_test)\n"
      ],
      "metadata": {
        "id": "xD6Yb9uEfZae",
        "colab": {
          "base_uri": "https://localhost:8080/"
        },
        "outputId": "0995193d-8b93-466f-c898-480d3d29aec5"
      },
      "execution_count": 8,
      "outputs": [
        {
          "output_type": "stream",
          "name": "stdout",
          "text": [
            "Epoch 1/5\n",
            "Tecaher prediction   ... Tensor(\"teacher/dense/BiasAdd:0\", shape=(None, 10), dtype=float32)\n",
            "Loss in distiller : Tensor(\"add:0\", shape=(), dtype=float32)\n",
            "Train... {'sparse_categorical_accuracy': <tf.Tensor 'Identity:0' shape=() dtype=float32>, 'student_loss': <tf.Tensor 'sparse_categorical_crossentropy/weighted_loss/value:0' shape=() dtype=float32>, 'distillation_loss': <tf.Tensor 'kl_divergence/weighted_loss/value:0' shape=() dtype=float32>}\n",
            "Tecaher prediction   ... Tensor(\"teacher/dense/BiasAdd:0\", shape=(None, 10), dtype=float32)\n",
            "Loss in distiller : Tensor(\"add:0\", shape=(), dtype=float32)\n",
            "Train... {'sparse_categorical_accuracy': <tf.Tensor 'Identity:0' shape=() dtype=float32>, 'student_loss': <tf.Tensor 'sparse_categorical_crossentropy/weighted_loss/value:0' shape=() dtype=float32>, 'distillation_loss': <tf.Tensor 'kl_divergence/weighted_loss/value:0' shape=() dtype=float32>}\n",
            "1563/1563 [==============================] - 19s 12ms/step - sparse_categorical_accuracy: 0.7949 - student_loss: 0.5965 - distillation_loss: 0.0839\n",
            "Epoch 2/5\n",
            "1563/1563 [==============================] - 19s 12ms/step - sparse_categorical_accuracy: 0.8194 - student_loss: 0.5267 - distillation_loss: 0.0820\n",
            "Epoch 3/5\n",
            "1563/1563 [==============================] - 19s 12ms/step - sparse_categorical_accuracy: 0.8373 - student_loss: 0.4753 - distillation_loss: 0.0806\n",
            "Epoch 4/5\n",
            "1563/1563 [==============================] - 19s 12ms/step - sparse_categorical_accuracy: 0.8546 - student_loss: 0.4248 - distillation_loss: 0.0803\n",
            "Epoch 5/5\n",
            "1563/1563 [==============================] - 19s 12ms/step - sparse_categorical_accuracy: 0.8726 - student_loss: 0.3864 - distillation_loss: 0.0807\n",
            "Test... {'sparse_categorical_accuracy': <tf.Tensor 'Identity:0' shape=() dtype=float32>, 'student_loss': <tf.Tensor 'sparse_categorical_crossentropy/weighted_loss/value:0' shape=() dtype=float32>}\n",
            "313/313 [==============================] - 1s 4ms/step - sparse_categorical_accuracy: 0.7150 - student_loss: 0.9101\n"
          ]
        },
        {
          "output_type": "execute_result",
          "data": {
            "text/plain": [
              "[0.7149999737739563, 0.814197301864624]"
            ]
          },
          "metadata": {},
          "execution_count": 8
        }
      ]
    },
    {
      "cell_type": "code",
      "source": [
        "#compile distiller\n",
        "distiller3= Distiller(student=student, teacher=teacher)\n",
        "distiller3.compile(optimizer=keras.optimizers.Adam(),\n",
        "                 metrics=[keras.metrics.SparseCategoricalAccuracy()],\n",
        "                 student_loss_fn=keras.losses.SparseCategoricalCrossentropy(from_logits=True),\n",
        "                 distillation_loss_fn=keras.losses.KLDivergence(),\n",
        "                 alpha=0.3,\n",
        "                 temperature=4)\n",
        "\n",
        "# Distill teacher to student\n",
        "distiller3.fit(x_train, y_train, epochs=5)# Evaluate student on test dataset\n",
        "distiller3.evaluate(x_test, y_test)\n"
      ],
      "metadata": {
        "id": "v11FVI2RgyMx",
        "colab": {
          "base_uri": "https://localhost:8080/"
        },
        "outputId": "cbc0b054-7e65-48ed-e20c-b8764ffcf805"
      },
      "execution_count": 9,
      "outputs": [
        {
          "output_type": "stream",
          "name": "stdout",
          "text": [
            "Epoch 1/5\n",
            "Tecaher prediction   ... Tensor(\"teacher/dense/BiasAdd:0\", shape=(None, 10), dtype=float32)\n",
            "Loss in distiller : Tensor(\"add:0\", shape=(), dtype=float32)\n",
            "Train... {'sparse_categorical_accuracy': <tf.Tensor 'Identity:0' shape=() dtype=float32>, 'student_loss': <tf.Tensor 'sparse_categorical_crossentropy/weighted_loss/value:0' shape=() dtype=float32>, 'distillation_loss': <tf.Tensor 'kl_divergence/weighted_loss/value:0' shape=() dtype=float32>}\n",
            "Tecaher prediction   ... Tensor(\"teacher/dense/BiasAdd:0\", shape=(None, 10), dtype=float32)\n",
            "Loss in distiller : Tensor(\"add:0\", shape=(), dtype=float32)\n",
            "Train... {'sparse_categorical_accuracy': <tf.Tensor 'Identity:0' shape=() dtype=float32>, 'student_loss': <tf.Tensor 'sparse_categorical_crossentropy/weighted_loss/value:0' shape=() dtype=float32>, 'distillation_loss': <tf.Tensor 'kl_divergence/weighted_loss/value:0' shape=() dtype=float32>}\n",
            "1563/1563 [==============================] - 19s 12ms/step - sparse_categorical_accuracy: 0.8841 - student_loss: 0.3510 - distillation_loss: 0.0648\n",
            "Epoch 2/5\n",
            "1563/1563 [==============================] - 18s 12ms/step - sparse_categorical_accuracy: 0.9057 - student_loss: 0.3024 - distillation_loss: 0.0644\n",
            "Epoch 3/5\n",
            "1563/1563 [==============================] - 19s 12ms/step - sparse_categorical_accuracy: 0.9147 - student_loss: 0.2767 - distillation_loss: 0.0656\n",
            "Epoch 4/5\n",
            "1563/1563 [==============================] - 19s 12ms/step - sparse_categorical_accuracy: 0.9246 - student_loss: 0.2540 - distillation_loss: 0.0670\n",
            "Epoch 5/5\n",
            "1563/1563 [==============================] - 19s 12ms/step - sparse_categorical_accuracy: 0.9327 - student_loss: 0.2374 - distillation_loss: 0.0666\n",
            "Test... {'sparse_categorical_accuracy': <tf.Tensor 'Identity:0' shape=() dtype=float32>, 'student_loss': <tf.Tensor 'sparse_categorical_crossentropy/weighted_loss/value:0' shape=() dtype=float32>}\n",
            "313/313 [==============================] - 1s 4ms/step - sparse_categorical_accuracy: 0.7069 - student_loss: 0.9866\n"
          ]
        },
        {
          "output_type": "execute_result",
          "data": {
            "text/plain": [
              "[0.7069000005722046, 0.6541632413864136]"
            ]
          },
          "metadata": {},
          "execution_count": 9
        }
      ]
    },
    {
      "cell_type": "code",
      "source": [
        "student.compile(\n",
        "                 optimizer=keras.optimizers.Adam(),\n",
        "                 metrics=[keras.metrics.SparseCategoricalAccuracy()],\n",
        "                 loss=keras.losses.SparseCategoricalCrossentropy(from_logits=True),\n",
        ")"
      ],
      "metadata": {
        "id": "BijPSQ9boFh6"
      },
      "execution_count": 10,
      "outputs": []
    },
    {
      "cell_type": "code",
      "source": [
        "student.fit(x_train, y_train, epochs=5)\n",
        "student.evaluate(x_test, y_test)"
      ],
      "metadata": {
        "id": "40H_veRWobQ9",
        "colab": {
          "base_uri": "https://localhost:8080/"
        },
        "outputId": "d1d9c329-2989-484a-bd95-fb7c8a363904"
      },
      "execution_count": 11,
      "outputs": [
        {
          "output_type": "stream",
          "name": "stdout",
          "text": [
            "Epoch 1/5\n",
            "1563/1563 [==============================] - 11s 7ms/step - loss: 0.2316 - sparse_categorical_accuracy: 0.9224\n",
            "Epoch 2/5\n",
            "1563/1563 [==============================] - 10s 6ms/step - loss: 0.1966 - sparse_categorical_accuracy: 0.9320\n",
            "Epoch 3/5\n",
            "1563/1563 [==============================] - 10s 7ms/step - loss: 0.1762 - sparse_categorical_accuracy: 0.9370\n",
            "Epoch 4/5\n",
            "1563/1563 [==============================] - 10s 7ms/step - loss: 0.1616 - sparse_categorical_accuracy: 0.9439\n",
            "Epoch 5/5\n",
            "1563/1563 [==============================] - 10s 7ms/step - loss: 0.1494 - sparse_categorical_accuracy: 0.9472\n",
            "313/313 [==============================] - 2s 4ms/step - loss: 1.5852 - sparse_categorical_accuracy: 0.7120\n"
          ]
        },
        {
          "output_type": "execute_result",
          "data": {
            "text/plain": [
              "[1.585228681564331, 0.7120000123977661]"
            ]
          },
          "metadata": {},
          "execution_count": 11
        }
      ]
    },
    {
      "cell_type": "markdown",
      "source": [
        "# Changing the Loss "
      ],
      "metadata": {
        "id": "QdF0pguBGOPi"
      }
    },
    {
      "cell_type": "code",
      "source": [
        "# Create the student\n",
        "student = tf.keras.Sequential(\n",
        "    [\n",
        "        tf.keras.Input(shape=(32, 32, 3)),\n",
        "        tf.keras.layers.Conv2D(64, (3, 3), strides=(2, 2), padding=\"same\"),\n",
        "        tf.keras.layers.LeakyReLU(alpha=0.2),\n",
        "        tf.keras.layers.MaxPooling2D(pool_size=(2, 2), strides=(1, 1), padding=\"same\"),\n",
        "        tf.keras.layers.Conv2D(256, (3, 3), strides=(2, 2), padding=\"same\"),\n",
        "        tf.keras.layers.LeakyReLU(alpha=0.2),\n",
        "        tf.keras.layers.MaxPooling2D(pool_size=(2, 2), strides=(1, 1), padding=\"same\"),\n",
        "        tf.keras.layers.Flatten(),\n",
        "        tf.keras.layers.Dense(10),\n",
        "    ],\n",
        "    name=\"student\",\n",
        ")\n",
        "student.summary()"
      ],
      "metadata": {
        "outputId": "1c1676a1-2873-4af8-c864-8f0f25e1fe3e",
        "colab": {
          "base_uri": "https://localhost:8080/"
        },
        "id": "9ceD-ofRHNHr"
      },
      "execution_count": null,
      "outputs": [
        {
          "output_type": "stream",
          "name": "stdout",
          "text": [
            "Model: \"student\"\n",
            "_________________________________________________________________\n",
            " Layer (type)                Output Shape              Param #   \n",
            "=================================================================\n",
            " conv2d_2 (Conv2D)           (None, 16, 16, 64)        1792      \n",
            "                                                                 \n",
            " leaky_re_lu_2 (LeakyReLU)   (None, 16, 16, 64)        0         \n",
            "                                                                 \n",
            " max_pooling2d_2 (MaxPooling  (None, 16, 16, 64)       0         \n",
            " 2D)                                                             \n",
            "                                                                 \n",
            " conv2d_3 (Conv2D)           (None, 8, 8, 256)         147712    \n",
            "                                                                 \n",
            " leaky_re_lu_3 (LeakyReLU)   (None, 8, 8, 256)         0         \n",
            "                                                                 \n",
            " max_pooling2d_3 (MaxPooling  (None, 8, 8, 256)        0         \n",
            " 2D)                                                             \n",
            "                                                                 \n",
            " flatten_1 (Flatten)         (None, 16384)             0         \n",
            "                                                                 \n",
            " dense_1 (Dense)             (None, 10)                163850    \n",
            "                                                                 \n",
            "=================================================================\n",
            "Total params: 313,354\n",
            "Trainable params: 313,354\n",
            "Non-trainable params: 0\n",
            "_________________________________________________________________\n"
          ]
        }
      ]
    },
    {
      "cell_type": "code",
      "source": [
        "#compile distiller\n",
        "distiller1= Distiller(student=student, teacher=teacher)\n",
        "distiller1.compile(optimizer=keras.optimizers.Adam(),\n",
        "                 metrics=[keras.metrics.SparseCategoricalAccuracy()],\n",
        "                 student_loss_fn=keras.losses.SparseCategoricalCrossentropy(from_logits=True),\n",
        "                 distillation_loss_fn=keras.losses.KLDivergence(),\n",
        "                 alpha=0.3,\n",
        "                 temperature=2)\n",
        "\n",
        "# Distill teacher to student\n",
        "distiller1.fit(x_train, y_train, epochs=5)# Evaluate student on test dataset\n",
        "distiller1.evaluate(x_test, y_test)\n"
      ],
      "metadata": {
        "outputId": "6d95e787-8e9b-461a-ddec-84b0ed18166b",
        "colab": {
          "base_uri": "https://localhost:8080/"
        },
        "id": "vKVobPiWGAlC"
      },
      "execution_count": null,
      "outputs": [
        {
          "output_type": "stream",
          "name": "stdout",
          "text": [
            "Epoch 1/5\n",
            "Tecaher prediction   ... Tensor(\"teacher/dense/BiasAdd:0\", shape=(None, 10), dtype=float32)\n",
            "Loss in distiller : Tensor(\"add:0\", shape=(), dtype=float32)\n",
            "Train... {'sparse_categorical_accuracy': <tf.Tensor 'Identity:0' shape=() dtype=float32>, 'student_loss': <tf.Tensor 'sparse_categorical_crossentropy/weighted_loss/value:0' shape=() dtype=float32>, 'distillation_loss': <tf.Tensor 'kl_divergence/weighted_loss/value:0' shape=() dtype=float32>}\n",
            "Tecaher prediction   ... Tensor(\"teacher/dense/BiasAdd:0\", shape=(None, 10), dtype=float32)\n",
            "Loss in distiller : Tensor(\"add:0\", shape=(), dtype=float32)\n",
            "Train... {'sparse_categorical_accuracy': <tf.Tensor 'Identity:0' shape=() dtype=float32>, 'student_loss': <tf.Tensor 'sparse_categorical_crossentropy/weighted_loss/value:0' shape=() dtype=float32>, 'distillation_loss': <tf.Tensor 'kl_divergence/weighted_loss/value:0' shape=() dtype=float32>}\n",
            "1563/1563 [==============================] - 21s 12ms/step - sparse_categorical_accuracy: 0.5521 - student_loss: 1.2972 - distillation_loss: 0.4161\n",
            "Epoch 2/5\n",
            "1563/1563 [==============================] - 19s 12ms/step - sparse_categorical_accuracy: 0.6754 - student_loss: 0.9594 - distillation_loss: 0.2043\n",
            "Epoch 3/5\n",
            "1563/1563 [==============================] - 19s 12ms/step - sparse_categorical_accuracy: 0.7175 - student_loss: 0.8294 - distillation_loss: 0.1529\n",
            "Epoch 4/5\n",
            "1563/1563 [==============================] - 19s 12ms/step - sparse_categorical_accuracy: 0.7489 - student_loss: 0.7368 - distillation_loss: 0.1295\n",
            "Epoch 5/5\n",
            "1563/1563 [==============================] - 19s 12ms/step - sparse_categorical_accuracy: 0.7714 - student_loss: 0.6661 - distillation_loss: 0.1155\n",
            "Test... {'sparse_categorical_accuracy': <tf.Tensor 'Identity:0' shape=() dtype=float32>, 'student_loss': <tf.Tensor 'sparse_categorical_crossentropy/weighted_loss/value:0' shape=() dtype=float32>}\n",
            "313/313 [==============================] - 1s 4ms/step - sparse_categorical_accuracy: 0.7107 - student_loss: 0.9049\n"
          ]
        },
        {
          "output_type": "execute_result",
          "data": {
            "text/plain": [
              "[0.7106999754905701, 1.1078436374664307]"
            ]
          },
          "metadata": {},
          "execution_count": 7
        }
      ]
    },
    {
      "cell_type": "code",
      "source": [
        "#compile distiller\n",
        "distiller2= Distiller(student=student, teacher=teacher)\n",
        "distiller2.compile(optimizer=keras.optimizers.Adam(),\n",
        "                 metrics=[keras.metrics.SparseCategoricalAccuracy()],\n",
        "                 student_loss_fn=keras.losses.SparseCategoricalCrossentropy(from_logits=True),\n",
        "                 distillation_loss_fn=keras.losses.KLDivergence(),\n",
        "                 alpha=0.3,\n",
        "                 temperature=3)\n",
        "\n",
        "# Distill teacher to student\n",
        "distiller2.fit(x_train, y_train, epochs=5)# Evaluate student on test dataset\n",
        "distiller2.evaluate(x_test, y_test)\n"
      ],
      "metadata": {
        "outputId": "0995193d-8b93-466f-c898-480d3d29aec5",
        "colab": {
          "base_uri": "https://localhost:8080/"
        },
        "id": "pXH4e9V1GAlP"
      },
      "execution_count": null,
      "outputs": [
        {
          "output_type": "stream",
          "name": "stdout",
          "text": [
            "Epoch 1/5\n",
            "Tecaher prediction   ... Tensor(\"teacher/dense/BiasAdd:0\", shape=(None, 10), dtype=float32)\n",
            "Loss in distiller : Tensor(\"add:0\", shape=(), dtype=float32)\n",
            "Train... {'sparse_categorical_accuracy': <tf.Tensor 'Identity:0' shape=() dtype=float32>, 'student_loss': <tf.Tensor 'sparse_categorical_crossentropy/weighted_loss/value:0' shape=() dtype=float32>, 'distillation_loss': <tf.Tensor 'kl_divergence/weighted_loss/value:0' shape=() dtype=float32>}\n",
            "Tecaher prediction   ... Tensor(\"teacher/dense/BiasAdd:0\", shape=(None, 10), dtype=float32)\n",
            "Loss in distiller : Tensor(\"add:0\", shape=(), dtype=float32)\n",
            "Train... {'sparse_categorical_accuracy': <tf.Tensor 'Identity:0' shape=() dtype=float32>, 'student_loss': <tf.Tensor 'sparse_categorical_crossentropy/weighted_loss/value:0' shape=() dtype=float32>, 'distillation_loss': <tf.Tensor 'kl_divergence/weighted_loss/value:0' shape=() dtype=float32>}\n",
            "1563/1563 [==============================] - 19s 12ms/step - sparse_categorical_accuracy: 0.7949 - student_loss: 0.5965 - distillation_loss: 0.0839\n",
            "Epoch 2/5\n",
            "1563/1563 [==============================] - 19s 12ms/step - sparse_categorical_accuracy: 0.8194 - student_loss: 0.5267 - distillation_loss: 0.0820\n",
            "Epoch 3/5\n",
            "1563/1563 [==============================] - 19s 12ms/step - sparse_categorical_accuracy: 0.8373 - student_loss: 0.4753 - distillation_loss: 0.0806\n",
            "Epoch 4/5\n",
            "1563/1563 [==============================] - 19s 12ms/step - sparse_categorical_accuracy: 0.8546 - student_loss: 0.4248 - distillation_loss: 0.0803\n",
            "Epoch 5/5\n",
            "1563/1563 [==============================] - 19s 12ms/step - sparse_categorical_accuracy: 0.8726 - student_loss: 0.3864 - distillation_loss: 0.0807\n",
            "Test... {'sparse_categorical_accuracy': <tf.Tensor 'Identity:0' shape=() dtype=float32>, 'student_loss': <tf.Tensor 'sparse_categorical_crossentropy/weighted_loss/value:0' shape=() dtype=float32>}\n",
            "313/313 [==============================] - 1s 4ms/step - sparse_categorical_accuracy: 0.7150 - student_loss: 0.9101\n"
          ]
        },
        {
          "output_type": "execute_result",
          "data": {
            "text/plain": [
              "[0.7149999737739563, 0.814197301864624]"
            ]
          },
          "metadata": {},
          "execution_count": 8
        }
      ]
    },
    {
      "cell_type": "code",
      "source": [
        "#compile distiller\n",
        "distiller3= Distiller(student=student, teacher=teacher)\n",
        "distiller3.compile(optimizer=keras.optimizers.Adam(),\n",
        "                 metrics=[keras.metrics.SparseCategoricalAccuracy()],\n",
        "                 student_loss_fn=keras.losses.SparseCategoricalCrossentropy(from_logits=True),\n",
        "                 distillation_loss_fn=keras.losses.KLDivergence(),\n",
        "                 alpha=0.3,\n",
        "                 temperature=4)\n",
        "\n",
        "# Distill teacher to student\n",
        "distiller3.fit(x_train, y_train, epochs=5)# Evaluate student on test dataset\n",
        "distiller3.evaluate(x_test, y_test)\n"
      ],
      "metadata": {
        "outputId": "cbc0b054-7e65-48ed-e20c-b8764ffcf805",
        "colab": {
          "base_uri": "https://localhost:8080/"
        },
        "id": "AvUAEkT4GAlQ"
      },
      "execution_count": null,
      "outputs": [
        {
          "output_type": "stream",
          "name": "stdout",
          "text": [
            "Epoch 1/5\n",
            "Tecaher prediction   ... Tensor(\"teacher/dense/BiasAdd:0\", shape=(None, 10), dtype=float32)\n",
            "Loss in distiller : Tensor(\"add:0\", shape=(), dtype=float32)\n",
            "Train... {'sparse_categorical_accuracy': <tf.Tensor 'Identity:0' shape=() dtype=float32>, 'student_loss': <tf.Tensor 'sparse_categorical_crossentropy/weighted_loss/value:0' shape=() dtype=float32>, 'distillation_loss': <tf.Tensor 'kl_divergence/weighted_loss/value:0' shape=() dtype=float32>}\n",
            "Tecaher prediction   ... Tensor(\"teacher/dense/BiasAdd:0\", shape=(None, 10), dtype=float32)\n",
            "Loss in distiller : Tensor(\"add:0\", shape=(), dtype=float32)\n",
            "Train... {'sparse_categorical_accuracy': <tf.Tensor 'Identity:0' shape=() dtype=float32>, 'student_loss': <tf.Tensor 'sparse_categorical_crossentropy/weighted_loss/value:0' shape=() dtype=float32>, 'distillation_loss': <tf.Tensor 'kl_divergence/weighted_loss/value:0' shape=() dtype=float32>}\n",
            "1563/1563 [==============================] - 19s 12ms/step - sparse_categorical_accuracy: 0.8841 - student_loss: 0.3510 - distillation_loss: 0.0648\n",
            "Epoch 2/5\n",
            "1563/1563 [==============================] - 18s 12ms/step - sparse_categorical_accuracy: 0.9057 - student_loss: 0.3024 - distillation_loss: 0.0644\n",
            "Epoch 3/5\n",
            "1563/1563 [==============================] - 19s 12ms/step - sparse_categorical_accuracy: 0.9147 - student_loss: 0.2767 - distillation_loss: 0.0656\n",
            "Epoch 4/5\n",
            "1563/1563 [==============================] - 19s 12ms/step - sparse_categorical_accuracy: 0.9246 - student_loss: 0.2540 - distillation_loss: 0.0670\n",
            "Epoch 5/5\n",
            "1563/1563 [==============================] - 19s 12ms/step - sparse_categorical_accuracy: 0.9327 - student_loss: 0.2374 - distillation_loss: 0.0666\n",
            "Test... {'sparse_categorical_accuracy': <tf.Tensor 'Identity:0' shape=() dtype=float32>, 'student_loss': <tf.Tensor 'sparse_categorical_crossentropy/weighted_loss/value:0' shape=() dtype=float32>}\n",
            "313/313 [==============================] - 1s 4ms/step - sparse_categorical_accuracy: 0.7069 - student_loss: 0.9866\n"
          ]
        },
        {
          "output_type": "execute_result",
          "data": {
            "text/plain": [
              "[0.7069000005722046, 0.6541632413864136]"
            ]
          },
          "metadata": {},
          "execution_count": 9
        }
      ]
    },
    {
      "cell_type": "code",
      "source": [
        "student.compile(\n",
        "                 optimizer=keras.optimizers.Adam(),\n",
        "                 metrics=[keras.metrics.SparseCategoricalAccuracy()],\n",
        "                 loss=keras.losses.SparseCategoricalCrossentropy(from_logits=True),\n",
        ")"
      ],
      "metadata": {
        "id": "72fEqTtAGAlQ"
      },
      "execution_count": null,
      "outputs": []
    },
    {
      "cell_type": "code",
      "source": [
        "student.fit(x_train, y_train, epochs=5)\n",
        "student.evaluate(x_test, y_test)"
      ],
      "metadata": {
        "outputId": "d1d9c329-2989-484a-bd95-fb7c8a363904",
        "colab": {
          "base_uri": "https://localhost:8080/"
        },
        "id": "wIuTRZvnGAlQ"
      },
      "execution_count": null,
      "outputs": [
        {
          "output_type": "stream",
          "name": "stdout",
          "text": [
            "Epoch 1/5\n",
            "1563/1563 [==============================] - 11s 7ms/step - loss: 0.2316 - sparse_categorical_accuracy: 0.9224\n",
            "Epoch 2/5\n",
            "1563/1563 [==============================] - 10s 6ms/step - loss: 0.1966 - sparse_categorical_accuracy: 0.9320\n",
            "Epoch 3/5\n",
            "1563/1563 [==============================] - 10s 7ms/step - loss: 0.1762 - sparse_categorical_accuracy: 0.9370\n",
            "Epoch 4/5\n",
            "1563/1563 [==============================] - 10s 7ms/step - loss: 0.1616 - sparse_categorical_accuracy: 0.9439\n",
            "Epoch 5/5\n",
            "1563/1563 [==============================] - 10s 7ms/step - loss: 0.1494 - sparse_categorical_accuracy: 0.9472\n",
            "313/313 [==============================] - 2s 4ms/step - loss: 1.5852 - sparse_categorical_accuracy: 0.7120\n"
          ]
        },
        {
          "output_type": "execute_result",
          "data": {
            "text/plain": [
              "[1.585228681564331, 0.7120000123977661]"
            ]
          },
          "metadata": {},
          "execution_count": 11
        }
      ]
    }
  ]
}