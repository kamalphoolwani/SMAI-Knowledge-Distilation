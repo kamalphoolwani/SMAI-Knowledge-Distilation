{
  "cells": [
    {
      "cell_type": "markdown",
      "metadata": {
        "id": "view-in-github",
        "colab_type": "text"
      },
      "source": [
        "<a href=\"https://colab.research.google.com/github/shreyash53/SMAI-Knowledge-Distilation/blob/main/knowledge_distillation_MNIST_Distiller.ipynb\" target=\"_parent\"><img src=\"https://colab.research.google.com/assets/colab-badge.svg\" alt=\"Open In Colab\"/></a>"
      ]
    },
    {
      "cell_type": "code",
      "execution_count": null,
      "metadata": {
        "id": "RApvgl9kmkpf"
      },
      "outputs": [],
      "source": [
        "import tensorflow as tf\n",
        "from tensorflow import keras\n",
        "from tensorflow.keras import layers\n",
        "import numpy as np\n",
        "import matplotlib.pyplot as plt\n",
        "%matplotlib inline "
      ]
    },
    {
      "cell_type": "code",
      "execution_count": null,
      "metadata": {
        "id": "HMvbcBzwmkpk"
      },
      "outputs": [],
      "source": [
        "class Distiller(keras.Model):\n",
        "    def __init__(self, student, teacher):\n",
        "        super(Distiller, self).__init__()\n",
        "        self.teacher = teacher\n",
        "        self.student = student\n",
        "\n",
        "    def compile(\n",
        "        self,\n",
        "        optimizer,\n",
        "        metrics,\n",
        "        student_loss_fn,\n",
        "        distillation_loss_fn,\n",
        "        alpha=0.1,\n",
        "        temperature=3,\n",
        "    ):\n",
        "        \"\"\" Configure the distiller.\n",
        "\n",
        "        Args:\n",
        "            optimizer: Keras optimizer for the student weights\n",
        "            metrics: Keras metrics for evaluation\n",
        "            student_loss_fn: Loss function of difference between student\n",
        "                predictions and ground-truth\n",
        "            distillation_loss_fn: Loss function of difference between soft\n",
        "                student predictions and soft teacher predictions\n",
        "            alpha: weight to student_loss_fn and 1-alpha to distillation_loss_fn\n",
        "            temperature: Temperature for softening probability distributions.\n",
        "                Larger temperature gives softer distributions.\n",
        "        \"\"\"\n",
        "        super(Distiller, self).compile(optimizer=optimizer, metrics=metrics)\n",
        "        self.student_loss_fn = student_loss_fn\n",
        "        self.distillation_loss_fn = distillation_loss_fn\n",
        "        self.alpha = alpha\n",
        "        self.temperature = temperature\n",
        "\n",
        "    def train_step(self, data):\n",
        "        # Unpack data\n",
        "        x, y = data\n",
        "\n",
        "        # Forward pass of teacher\n",
        "        teacher_predictions = self.teacher(x, training=False)\n",
        "\n",
        "        with tf.GradientTape() as tape:\n",
        "            # Forward pass of student\n",
        "            student_predictions = self.student(x, training=True)\n",
        "\n",
        "            # Compute losses\n",
        "            student_loss = self.student_loss_fn(y, student_predictions)\n",
        "            distillation_loss = self.distillation_loss_fn(\n",
        "                tf.nn.softmax(teacher_predictions / self.temperature, axis=1),\n",
        "                tf.nn.softmax(student_predictions / self.temperature, axis=1),\n",
        "            )\n",
        "            loss = self.alpha * student_loss + (1 - self.alpha) * distillation_loss\n",
        "\n",
        "        # Compute gradients\n",
        "        trainable_vars = self.student.trainable_variables\n",
        "        gradients = tape.gradient(loss, trainable_vars)\n",
        "\n",
        "        # Update weights\n",
        "        self.optimizer.apply_gradients(zip(gradients, trainable_vars))\n",
        "\n",
        "        # Update the metrics configured in `compile()`.\n",
        "        self.compiled_metrics.update_state(y, student_predictions)\n",
        "\n",
        "        # Return a dict of performance\n",
        "        results = {m.name: m.result() for m in self.metrics}\n",
        "        results.update(\n",
        "            {\"student_loss\": student_loss, \"distillation_loss\": distillation_loss}\n",
        "        )\n",
        "        return results\n",
        "\n",
        "    def test_step(self, data):\n",
        "        # Unpack the data\n",
        "        x, y = data\n",
        "\n",
        "        # Compute predictions\n",
        "        y_prediction = self.student(x, training=False)\n",
        "\n",
        "        # Calculate the loss\n",
        "        student_loss = self.student_loss_fn(y, y_prediction)\n",
        "\n",
        "        # Update the metrics.\n",
        "        self.compiled_metrics.update_state(y, y_prediction)\n",
        "\n",
        "        # Return a dict of performance\n",
        "        results = {m.name: m.result() for m in self.metrics}\n",
        "        results.update({\"student_loss\": student_loss})\n",
        "        return results\n"
      ]
    },
    {
      "cell_type": "code",
      "execution_count": null,
      "metadata": {
        "id": "YL_-rCnImkpp",
        "colab": {
          "base_uri": "https://localhost:8080/"
        },
        "outputId": "b4dc2c39-0f18-4e48-bd95-5fc645ed3257"
      },
      "outputs": [
        {
          "output_type": "stream",
          "name": "stdout",
          "text": [
            "Model: \"teacher\"\n",
            "_________________________________________________________________\n",
            " Layer (type)                Output Shape              Param #   \n",
            "=================================================================\n",
            " conv2d_4 (Conv2D)           (None, 14, 14, 256)       2560      \n",
            "                                                                 \n",
            " leaky_re_lu_2 (LeakyReLU)   (None, 14, 14, 256)       0         \n",
            "                                                                 \n",
            " max_pooling2d_2 (MaxPooling  (None, 14, 14, 256)      0         \n",
            " 2D)                                                             \n",
            "                                                                 \n",
            " conv2d_5 (Conv2D)           (None, 7, 7, 512)         1180160   \n",
            "                                                                 \n",
            " flatten_4 (Flatten)         (None, 25088)             0         \n",
            "                                                                 \n",
            " dense_8 (Dense)             (None, 10)                250890    \n",
            "                                                                 \n",
            "=================================================================\n",
            "Total params: 1,433,610\n",
            "Trainable params: 1,433,610\n",
            "Non-trainable params: 0\n",
            "_________________________________________________________________\n",
            "Model: \"student\"\n",
            "_________________________________________________________________\n",
            " Layer (type)                Output Shape              Param #   \n",
            "=================================================================\n",
            " flatten_5 (Flatten)         (None, 784)               0         \n",
            "                                                                 \n",
            " dense_9 (Dense)             (None, 100)               78500     \n",
            "                                                                 \n",
            " dense_10 (Dense)            (None, 50)                5050      \n",
            "                                                                 \n",
            " dense_11 (Dense)            (None, 10)                510       \n",
            "                                                                 \n",
            "=================================================================\n",
            "Total params: 84,060\n",
            "Trainable params: 84,060\n",
            "Non-trainable params: 0\n",
            "_________________________________________________________________\n"
          ]
        }
      ],
      "source": [
        "# Create the teacher\n",
        "teacher = keras.Sequential(\n",
        "    [\n",
        "        keras.Input(shape=(28, 28, 1)),\n",
        "        layers.Conv2D(256, (3, 3), strides=(2, 2), padding=\"same\"),\n",
        "        layers.LeakyReLU(alpha=0.2),\n",
        "        layers.MaxPooling2D(pool_size=(2, 2), strides=(1, 1), padding=\"same\"),\n",
        "        layers.Conv2D(512, (3, 3), strides=(2, 2), padding=\"same\"),\n",
        "        layers.Flatten(),\n",
        "        layers.Dense(10),\n",
        "    ],\n",
        "    name=\"teacher\",\n",
        ")\n",
        "\n",
        "teacher.summary()\n",
        "\n"
      ]
    },
    {
      "cell_type": "code",
      "source": [
        "# Create the student\n",
        "student = keras.Sequential(\n",
        "    [\n",
        "        keras.Input(shape=(28, 28, 1)),\n",
        "        layers.Flatten(),\n",
        "        layers.Dense(100),\n",
        "        # layers.Dropout(0.5),\n",
        "        layers.Dense(50),\n",
        "        # layers.Dropout(0.5),\n",
        "        layers.Dense(10),\n",
        "    ],\n",
        "    name=\"student\",\n",
        ")\n",
        "\n",
        "student.summary()\n",
        "\n",
        "student_scratch = keras.models.clone_model(student)"
      ],
      "metadata": {
        "id": "QBbet65ybAt8"
      },
      "execution_count": null,
      "outputs": []
    },
    {
      "cell_type": "code",
      "execution_count": null,
      "metadata": {
        "id": "Y84xLPqfmkpu"
      },
      "outputs": [],
      "source": [
        "# Prepare the train and test dataset.\n",
        "batch_size = 64\n",
        "(x_train, y_train), (x_test, y_test) = keras.datasets.mnist.load_data()\n",
        "\n",
        "# Normalize data\n",
        "x_train = x_train.astype(\"float32\") / 255.0\n",
        "x_train = np.reshape(x_train, (-1, 28, 28, 1))\n",
        "\n",
        "x_test = x_test.astype(\"float32\") / 255.0\n",
        "x_test = np.reshape(x_test, (-1, 28, 28, 1))\n"
      ]
    },
    {
      "cell_type": "code",
      "execution_count": null,
      "metadata": {
        "id": "XhUOfLArmkpx",
        "colab": {
          "base_uri": "https://localhost:8080/"
        },
        "outputId": "779a4ca9-25e5-4bb7-b41b-8c6b8d934be2"
      },
      "outputs": [
        {
          "output_type": "stream",
          "name": "stdout",
          "text": [
            "Epoch 1/5\n",
            "1875/1875 [==============================] - 35s 19ms/step - loss: 0.1442 - sparse_categorical_accuracy: 0.9565\n",
            "Epoch 2/5\n",
            "1875/1875 [==============================] - 34s 18ms/step - loss: 0.0919 - sparse_categorical_accuracy: 0.9731\n",
            "Epoch 3/5\n",
            "1875/1875 [==============================] - 34s 18ms/step - loss: 0.0793 - sparse_categorical_accuracy: 0.9766\n",
            "Epoch 4/5\n",
            "1875/1875 [==============================] - 33s 18ms/step - loss: 0.0726 - sparse_categorical_accuracy: 0.9799\n",
            "Epoch 5/5\n",
            "1875/1875 [==============================] - 33s 18ms/step - loss: 0.0701 - sparse_categorical_accuracy: 0.9811\n",
            "313/313 [==============================] - 2s 7ms/step - loss: 0.0802 - sparse_categorical_accuracy: 0.9787\n"
          ]
        },
        {
          "output_type": "execute_result",
          "data": {
            "text/plain": [
              "[0.0802418664097786, 0.9786999821662903]"
            ]
          },
          "metadata": {},
          "execution_count": 13
        }
      ],
      "source": [
        "# Train teacher as usual\n",
        "teacher.compile(\n",
        "    optimizer=keras.optimizers.Adam(),\n",
        "    loss=keras.losses.SparseCategoricalCrossentropy(from_logits=True),\n",
        "    metrics=[keras.metrics.SparseCategoricalAccuracy()],\n",
        ")\n",
        "\n",
        "# Train and evaluate teacher on data.\n",
        "teacher.fit(x_train, y_train, epochs=5)\n",
        "teacher.evaluate(x_test, y_test)"
      ]
    },
    {
      "cell_type": "code",
      "execution_count": null,
      "metadata": {
        "id": "AiEwW9MHmkp0",
        "colab": {
          "base_uri": "https://localhost:8080/"
        },
        "outputId": "4d7db4f2-cd62-4f5e-dcca-04584643d4c9"
      },
      "outputs": [
        {
          "output_type": "stream",
          "name": "stdout",
          "text": [
            "Epoch 1/10\n",
            "1688/1688 [==============================] - 17s 10ms/step - sparse_categorical_accuracy: 0.8913 - student_loss: 0.4821 - distillation_loss: 0.3388 - val_sparse_categorical_accuracy: 0.9248 - val_student_loss: 0.0076\n",
            "Epoch 2/10\n",
            "1688/1688 [==============================] - 16s 10ms/step - sparse_categorical_accuracy: 0.9121 - student_loss: 0.4238 - distillation_loss: 0.2717 - val_sparse_categorical_accuracy: 0.9245 - val_student_loss: 0.0027\n",
            "Epoch 3/10\n",
            "1688/1688 [==============================] - 16s 10ms/step - sparse_categorical_accuracy: 0.9142 - student_loss: 0.4023 - distillation_loss: 0.2623 - val_sparse_categorical_accuracy: 0.9283 - val_student_loss: 0.0047\n",
            "Epoch 4/10\n",
            "1688/1688 [==============================] - 16s 9ms/step - sparse_categorical_accuracy: 0.9167 - student_loss: 0.3976 - distillation_loss: 0.2585 - val_sparse_categorical_accuracy: 0.9332 - val_student_loss: 0.0029\n",
            "Epoch 5/10\n",
            "1688/1688 [==============================] - 20s 12ms/step - sparse_categorical_accuracy: 0.9162 - student_loss: 0.3910 - distillation_loss: 0.2557 - val_sparse_categorical_accuracy: 0.9290 - val_student_loss: 0.0018\n",
            "Epoch 6/10\n",
            "1688/1688 [==============================] - 19s 11ms/step - sparse_categorical_accuracy: 0.9163 - student_loss: 0.3867 - distillation_loss: 0.2541 - val_sparse_categorical_accuracy: 0.9338 - val_student_loss: 0.0036\n",
            "Epoch 7/10\n",
            "1688/1688 [==============================] - 16s 9ms/step - sparse_categorical_accuracy: 0.9186 - student_loss: 0.3802 - distillation_loss: 0.2509 - val_sparse_categorical_accuracy: 0.9290 - val_student_loss: 0.0071\n",
            "Epoch 8/10\n",
            "1688/1688 [==============================] - 16s 10ms/step - sparse_categorical_accuracy: 0.9190 - student_loss: 0.3780 - distillation_loss: 0.2500 - val_sparse_categorical_accuracy: 0.9312 - val_student_loss: 0.0039\n",
            "Epoch 9/10\n",
            "1688/1688 [==============================] - 17s 10ms/step - sparse_categorical_accuracy: 0.9193 - student_loss: 0.3767 - distillation_loss: 0.2487 - val_sparse_categorical_accuracy: 0.9192 - val_student_loss: 0.0158\n",
            "Epoch 10/10\n",
            "1688/1688 [==============================] - 16s 10ms/step - sparse_categorical_accuracy: 0.9194 - student_loss: 0.3717 - distillation_loss: 0.2475 - val_sparse_categorical_accuracy: 0.9268 - val_student_loss: 0.0105\n",
            "313/313 [==============================] - 1s 3ms/step - sparse_categorical_accuracy: 0.9129 - student_loss: 0.4313\n"
          ]
        },
        {
          "output_type": "execute_result",
          "data": {
            "text/plain": [
              "[0.9128999710083008, 0.3029264211654663]"
            ]
          },
          "metadata": {},
          "execution_count": 14
        }
      ],
      "source": [
        "# Initialize and compile distiller\n",
        "distiller = Distiller(student=student, teacher=teacher)\n",
        "distiller.compile(\n",
        "    optimizer=keras.optimizers.Adam(),\n",
        "    metrics=[keras.metrics.SparseCategoricalAccuracy()],\n",
        "    student_loss_fn=keras.losses.SparseCategoricalCrossentropy(from_logits=True),\n",
        "    distillation_loss_fn=keras.losses.KLDivergence(),\n",
        "    alpha=0.2,\n",
        "    temperature=3,\n",
        ")\n",
        "\n",
        "# Distill teacher to student\n",
        "history1 = distiller.fit(x_train, y_train, validation_split=0.1, epochs=10)\n",
        "\n",
        "# Evaluate student on test dataset\n",
        "distiller.evaluate(x_test, y_test)"
      ]
    },
    {
      "cell_type": "code",
      "execution_count": null,
      "metadata": {
        "id": "4eZsJ-vomkp2",
        "colab": {
          "base_uri": "https://localhost:8080/"
        },
        "outputId": "de7b7bc8-6823-4bfa-d870-98d745a978f8"
      },
      "outputs": [
        {
          "output_type": "stream",
          "name": "stdout",
          "text": [
            "Epoch 1/10\n",
            "1313/1313 [==============================] - 7s 5ms/step - loss: 0.3848 - sparse_categorical_accuracy: 0.8896 - val_loss: 0.3240 - val_sparse_categorical_accuracy: 0.9086\n",
            "Epoch 2/10\n",
            "1313/1313 [==============================] - 6s 4ms/step - loss: 0.3132 - sparse_categorical_accuracy: 0.9104 - val_loss: 0.3044 - val_sparse_categorical_accuracy: 0.9134\n",
            "Epoch 3/10\n",
            "1313/1313 [==============================] - 7s 5ms/step - loss: 0.3011 - sparse_categorical_accuracy: 0.9134 - val_loss: 0.3045 - val_sparse_categorical_accuracy: 0.9177\n",
            "Epoch 4/10\n",
            "1313/1313 [==============================] - 7s 5ms/step - loss: 0.2924 - sparse_categorical_accuracy: 0.9172 - val_loss: 0.2994 - val_sparse_categorical_accuracy: 0.9181\n",
            "Epoch 5/10\n",
            "1313/1313 [==============================] - 7s 6ms/step - loss: 0.2869 - sparse_categorical_accuracy: 0.9176 - val_loss: 0.3165 - val_sparse_categorical_accuracy: 0.9146\n",
            "Epoch 6/10\n",
            "1313/1313 [==============================] - 6s 5ms/step - loss: 0.2830 - sparse_categorical_accuracy: 0.9198 - val_loss: 0.2961 - val_sparse_categorical_accuracy: 0.9166\n",
            "Epoch 7/10\n",
            "1313/1313 [==============================] - 6s 5ms/step - loss: 0.2783 - sparse_categorical_accuracy: 0.9200 - val_loss: 0.3054 - val_sparse_categorical_accuracy: 0.9161\n",
            "Epoch 8/10\n",
            "1313/1313 [==============================] - 7s 5ms/step - loss: 0.2735 - sparse_categorical_accuracy: 0.9220 - val_loss: 0.2988 - val_sparse_categorical_accuracy: 0.9193\n",
            "Epoch 9/10\n",
            "1313/1313 [==============================] - 7s 5ms/step - loss: 0.2733 - sparse_categorical_accuracy: 0.9224 - val_loss: 0.3069 - val_sparse_categorical_accuracy: 0.9161\n",
            "Epoch 10/10\n",
            "1313/1313 [==============================] - 6s 5ms/step - loss: 0.2701 - sparse_categorical_accuracy: 0.9229 - val_loss: 0.3052 - val_sparse_categorical_accuracy: 0.9167\n",
            "313/313 [==============================] - 1s 3ms/step - loss: 0.2931 - sparse_categorical_accuracy: 0.9186\n"
          ]
        },
        {
          "output_type": "execute_result",
          "data": {
            "text/plain": [
              "[0.293090283870697, 0.9186000227928162]"
            ]
          },
          "metadata": {},
          "execution_count": 15
        }
      ],
      "source": [
        "# Train student as doen usually\n",
        "student_scratch.compile(\n",
        "    optimizer=keras.optimizers.Adam(),\n",
        "    loss=keras.losses.SparseCategoricalCrossentropy(from_logits=True),\n",
        "    metrics=[keras.metrics.SparseCategoricalAccuracy()],\n",
        ")\n",
        "\n",
        "# Train and evaluate student trained from scratch.\n",
        "history = student_scratch.fit(x_train, y_train, validation_split=0.1, epochs=10)\n",
        "student_scratch.evaluate(x_test, y_test)"
      ]
    },
    {
      "cell_type": "code",
      "source": [
        "def plot_val_and_accuracy(history,history1):\n",
        "  fig, ax = plt.subplots(1,2, figsize=(16, 6))\n",
        "  ax[0].plot(history.history['val_loss'], color='r', label=\"Scratch Model loss\")\n",
        "  ax[0].plot(history1.history['val_student_loss'], color='b', label=\"Distillation Model loss\",axes =ax[0])\n",
        "  ax[0].set_title('Loss')\n",
        "  legend = ax[0].legend(loc='best', shadow=True)\n",
        "\n",
        "  ax[1].plot(history.history['val_sparse_categorical_accuracy'], color='r', label=\"Scratch Model Val accuracy\")\n",
        "  ax[1].plot(history1.history['val_sparse_categorical_accuracy'], color='b',label=\"Distillation Model Val accuracy\")\n",
        "  ax[1].set_title('Validation accuracy')\n",
        "  legend = ax[1].legend(loc='best', shadow=True)\n",
        "  plt.show()"
      ],
      "metadata": {
        "id": "Qawlx-taX-Ix"
      },
      "execution_count": null,
      "outputs": []
    },
    {
      "cell_type": "code",
      "source": [
        "plot_val_and_accuracy(history,history1)"
      ],
      "metadata": {
        "colab": {
          "base_uri": "https://localhost:8080/",
          "height": 390
        },
        "id": "Lib8mz4aYCr4",
        "outputId": "00e7e500-a452-4809-dc01-e2714ea724c2"
      },
      "execution_count": null,
      "outputs": [
        {
          "output_type": "display_data",
          "data": {
            "text/plain": [
              "<Figure size 1152x432 with 2 Axes>"
            ],
            "image/png": "[encoded data removed]"
          },
          "metadata": {
            "needs_background": "light"
          }
        }
      ]
    }
  ],
  "metadata": {
    "colab": {
      "collapsed_sections": [],
      "name": "knowledge_distillation MNIST Distiller",
      "provenance": [],
      "include_colab_link": true
    },
    "kernelspec": {
      "display_name": "Python 3",
      "language": "python",
      "name": "python3"
    },
    "language_info": {
      "codemirror_mode": {
        "name": "ipython",
        "version": 3
      },
      "file_extension": ".py",
      "mimetype": "text/x-python",
      "name": "python",
      "nbconvert_exporter": "python",
      "pygments_lexer": "ipython3",
      "version": "3.7.0"
    },
    "accelerator": "GPU"
  },
  "nbformat": 4,
  "nbformat_minor": 0
}